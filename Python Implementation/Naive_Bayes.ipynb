{
  "nbformat": 4,
  "nbformat_minor": 0,
  "metadata": {
    "colab": {
      "provenance": [],
      "include_colab_link": true
    },
    "kernelspec": {
      "name": "python3",
      "display_name": "Python 3"
    },
    "language_info": {
      "name": "python"
    }
  },
  "cells": [
    {
      "cell_type": "markdown",
      "metadata": {
        "id": "view-in-github",
        "colab_type": "text"
      },
      "source": [
        "<a href=\"https://colab.research.google.com/github/pranabsarma18/Machine-Learning-Technique/blob/main/Python%20Implementation/Naive_Bayes.ipynb\" target=\"_parent\"><img src=\"https://colab.research.google.com/assets/colab-badge.svg\" alt=\"Open In Colab\"/></a>"
      ]
    },
    {
      "cell_type": "code",
      "execution_count": 1,
      "metadata": {
        "id": "IeFUTqbNKOzL"
      },
      "outputs": [],
      "source": [
        "import numpy as np\n",
        "import matplotlib.pyplot as plt"
      ]
    },
    {
      "cell_type": "markdown",
      "source": [
        "# Bernoulli naive Bayes"
      ],
      "metadata": {
        "id": "3KUeTDaZuse4"
      }
    },
    {
      "cell_type": "markdown",
      "source": [
        "Run the below cell to get the following variables:\n",
        "\n",
        "`X` = Data matrix of shape $(n, d)$. All the features are binary taking values $0$ or $1$.\n",
        "\n",
        "`y` = label vector. Labels are $0$ and $1$."
      ],
      "metadata": {
        "id": "xpHCecV1uwdn"
      }
    },
    {
      "cell_type": "code",
      "source": [
        "rng = np.random.default_rng(seed=1)\n",
        "X1 = np.concatenate((rng.binomial(size = 50,n = 1, p =0.7), rng.binomial(size = 50,n = 1, p =0.2))).reshape(-1, 1)\n",
        "X2 = np.concatenate((rng.binomial(size = 50,n = 1, p =0.6), rng.binomial(size = 50,n = 1, p =0.1))).reshape(-1, 1)\n",
        "X3 = np.concatenate((rng.binomial(size = 50,n = 1, p =0.6), rng.binomial(size = 50,n = 1, p =0.2))).reshape(-1, 1)\n",
        "X4 = np.concatenate((rng.binomial(size = 50,n = 1, p =0.8), rng.binomial(size = 50,n = 1, p =0.1))).reshape(-1, 1)\n",
        "\n",
        "\n",
        "X = np.column_stack((X1,X2,X3,X4))\n",
        "\n",
        "y = np.concatenate((np.zeros(50, dtype= int), np.ones(50, dtype = int))).reshape(-1, 1)\n",
        "permute = rng.permuted(range(100)) \n",
        "\n",
        "X = X[permute]\n",
        "y = y[permute]\n"
      ],
      "metadata": {
        "id": "0PxEvCrZ3FD_"
      },
      "execution_count": 2,
      "outputs": []
    },
    {
      "cell_type": "code",
      "source": [
        "X.shape, y.shape"
      ],
      "metadata": {
        "colab": {
          "base_uri": "https://localhost:8080/"
        },
        "id": "9P2aj272eLpr",
        "outputId": "c34b653b-e127-4a67-d122-268e9256aa88"
      },
      "execution_count": 3,
      "outputs": [
        {
          "output_type": "execute_result",
          "data": {
            "text/plain": [
              "((100, 4), (100, 1))"
            ]
          },
          "metadata": {},
          "execution_count": 3
        }
      ]
    },
    {
      "cell_type": "markdown",
      "source": [
        "## Question 1\n",
        "If we train the naive Bayes model on the dataset, What will be the value of $\\hat{p}$, the estimate for $P(Y=1)$? \n",
        "\n"
      ],
      "metadata": {
        "id": "Zl_usamKCeY5"
      }
    },
    {
      "cell_type": "code",
      "source": [
        "# Enter your solution here\n",
        "y.mean()"
      ],
      "metadata": {
        "id": "J5lPVYy-8yLf",
        "colab": {
          "base_uri": "https://localhost:8080/"
        },
        "outputId": "7a44fb7f-375c-4994-cb58-0465dc6f3c93"
      },
      "execution_count": 4,
      "outputs": [
        {
          "output_type": "execute_result",
          "data": {
            "text/plain": [
              "0.5"
            ]
          },
          "metadata": {},
          "execution_count": 4
        }
      ]
    },
    {
      "cell_type": "markdown",
      "source": [
        "## Question 2\n",
        "What will be the value of $\\hat{p}_0^0$, the estimate of $P(f_0=1|y=0)$?  Write your answer correct to two decimal places.\n",
        "\n"
      ],
      "metadata": {
        "id": "yOoMZca0DGhs"
      }
    },
    {
      "cell_type": "code",
      "source": [
        "# Enter your solution here\n",
        "p0_0 = ((X[:,0] == 1) & (y[:,0] == 0)).sum()/((y[:,0] == 0).sum())\n",
        "p0_0"
      ],
      "metadata": {
        "id": "8sD0Ryp0fEnp",
        "colab": {
          "base_uri": "https://localhost:8080/"
        },
        "outputId": "386f0a6c-40e8-4ffc-9c4b-d51668db602e"
      },
      "execution_count": 5,
      "outputs": [
        {
          "output_type": "execute_result",
          "data": {
            "text/plain": [
              "0.68"
            ]
          },
          "metadata": {},
          "execution_count": 5
        }
      ]
    },
    {
      "cell_type": "markdown",
      "source": [
        "## Question 3\n",
        "What will be the value of $\\hat{p}_0^1$, the estimate of $P(f_0=1|y=1)$?  Write your answer correct to two decimal places.\n",
        "\n"
      ],
      "metadata": {
        "id": "YzJLLT6-G8GC"
      }
    },
    {
      "cell_type": "code",
      "source": [
        "# Enter your solution here\n",
        "p1_0 = ((X[:,0] == 1) & (y[:,0] == 1)).sum()/((y[:,0] == 1).sum())\n",
        "p1_0"
      ],
      "metadata": {
        "id": "q7qSgWyXfFhF",
        "colab": {
          "base_uri": "https://localhost:8080/"
        },
        "outputId": "2854edc2-8c25-4f99-c50c-febdd8c1c3df"
      },
      "execution_count": 6,
      "outputs": [
        {
          "output_type": "execute_result",
          "data": {
            "text/plain": [
              "0.26"
            ]
          },
          "metadata": {},
          "execution_count": 6
        }
      ]
    },
    {
      "cell_type": "markdown",
      "source": [
        "## Question 4\n",
        "What will be the value of $\\hat{p}_3^1$, the estimate of $P(f_3=1|y=1)$?  Write your answer correct to two decimal places.\n",
        "\n",
        "\n"
      ],
      "metadata": {
        "id": "NiciwccfHGwq"
      }
    },
    {
      "cell_type": "code",
      "source": [
        "# Enter your solution here\n",
        "p1_3 = ((X[:,3] == 1) & (y[:,0] == 1)).sum()/((y[:,0] == 1).sum())\n",
        "p1_3"
      ],
      "metadata": {
        "id": "YtXPKjmp6zOt",
        "colab": {
          "base_uri": "https://localhost:8080/"
        },
        "outputId": "035c303d-52ea-45b9-94b1-abb124976564"
      },
      "execution_count": 7,
      "outputs": [
        {
          "output_type": "execute_result",
          "data": {
            "text/plain": [
              "0.12"
            ]
          },
          "metadata": {},
          "execution_count": 7
        }
      ]
    },
    {
      "cell_type": "markdown",
      "source": [
        "## Naive Bayes Parameters estimation:"
      ],
      "metadata": {
        "id": "Y7iyzfyJjbpu"
      }
    },
    {
      "cell_type": "code",
      "source": [
        "p = y.mean()\n",
        "\n",
        "p0_0 = ((X[:,0] == 1) & (y[:,0] == 1)).sum()/((y[:,0] == 0).sum())\n",
        "p0_1 = ((X[:,1] == 1) & (y[:,0] == 1)).sum()/((y[:,0] == 0).sum())\n",
        "p0_2 = ((X[:,2] == 1) & (y[:,0] == 1)).sum()/((y[:,0] == 0).sum())\n",
        "p0_3 = ((X[:,3] == 1) & (y[:,0] == 1)).sum()/((y[:,0] == 0).sum())\n",
        "\n",
        "p1_0 = ((X[:,0] == 1) & (y[:,0] == 1)).sum()/((y[:,0] == 1).sum())\n",
        "p1_1 = ((X[:,1] == 1) & (y[:,0] == 1)).sum()/((y[:,0] == 1).sum())\n",
        "p1_2 = ((X[:,2] == 1) & (y[:,0] == 1)).sum()/((y[:,0] == 1).sum())\n",
        "p1_3 = ((X[:,3] == 1) & (y[:,0] == 1)).sum()/((y[:,0] == 1).sum())"
      ],
      "metadata": {
        "id": "AtkJSu-LjZMv"
      },
      "execution_count": 8,
      "outputs": []
    },
    {
      "cell_type": "code",
      "source": [
        "labels = np.unique(y)\n",
        "for i in labels:\n",
        "  X_c = X[y[:,0]==i]\n",
        "  for j in range(X.shape[1]):\n",
        "    print(f'P(f_{j}=1|y={i})=' , np.sum(X_c[:, j])/X_c.shape[0]) "
      ],
      "metadata": {
        "colab": {
          "base_uri": "https://localhost:8080/"
        },
        "id": "CCiL8XNNnRgo",
        "outputId": "acaee9b3-d08a-4fb0-e382-1ab52e14c4cd"
      },
      "execution_count": 9,
      "outputs": [
        {
          "output_type": "stream",
          "name": "stdout",
          "text": [
            "P(f_0=1|y=0)= 0.68\n",
            "P(f_1=1|y=0)= 0.64\n",
            "P(f_2=1|y=0)= 0.6\n",
            "P(f_3=1|y=0)= 0.84\n",
            "P(f_0=1|y=1)= 0.26\n",
            "P(f_1=1|y=1)= 0.14\n",
            "P(f_2=1|y=1)= 0.18\n",
            "P(f_3=1|y=1)= 0.12\n"
          ]
        }
      ]
    },
    {
      "cell_type": "code",
      "source": [
        "def estimates(X, y):\n",
        "    p_hat = y.mean()\n",
        "    labels = np.unique(y)\n",
        "    est = np.zeros((len(labels), X.shape[1]))\n",
        "\n",
        "    for i in range(len(labels)):\n",
        "        X_c = X[y.flatten()==i]\n",
        "\n",
        "        for j in range(X.shape[1]):\n",
        "            est[i, j] = (X_c[:,j]).sum()/X_c.shape[0]\n",
        "    \n",
        "    return p_hat, est"
      ],
      "metadata": {
        "id": "tNI4buePldfd"
      },
      "execution_count": 10,
      "outputs": []
    },
    {
      "cell_type": "code",
      "source": [
        "p, est = estimates(X, y)"
      ],
      "metadata": {
        "id": "H0eV6YVmqfoO"
      },
      "execution_count": 11,
      "outputs": []
    },
    {
      "cell_type": "code",
      "source": [
        "est"
      ],
      "metadata": {
        "colab": {
          "base_uri": "https://localhost:8080/"
        },
        "id": "ji1Zlb1PsFrS",
        "outputId": "b5e146a3-ca99-4a51-d0d0-d53fce84fcd0"
      },
      "execution_count": 12,
      "outputs": [
        {
          "output_type": "execute_result",
          "data": {
            "text/plain": [
              "array([[0.68, 0.64, 0.6 , 0.84],\n",
              "       [0.26, 0.14, 0.18, 0.12]])"
            ]
          },
          "metadata": {},
          "execution_count": 12
        }
      ]
    },
    {
      "cell_type": "code",
      "source": [
        "p"
      ],
      "metadata": {
        "colab": {
          "base_uri": "https://localhost:8080/"
        },
        "id": "1M3-pqoWQWDs",
        "outputId": "12862b2b-aa37-48c8-d83e-e7f4d600f6e1"
      },
      "execution_count": 13,
      "outputs": [
        {
          "output_type": "execute_result",
          "data": {
            "text/plain": [
              "0.5"
            ]
          },
          "metadata": {},
          "execution_count": 13
        }
      ]
    },
    {
      "cell_type": "code",
      "source": [
        "def predict(x, p, est):\n",
        "    p0 = 1 - p\n",
        "    class0 = p0\n",
        "    for i in range(len(x)):\n",
        "        class0 = class0 * (est[0,i]**x[i]) * ((1 - est[0,i])**(1-x[i]))\n",
        "    class1 = p\n",
        "    for i in range(len(x)):\n",
        "        class1 = class1 * (est[1,i]**x[i]) * ((1 - est[1,i])**(1-x[i]))\n",
        "    \n",
        "    if class0 > class1:\n",
        "        print('Class 0')\n",
        "    else:\n",
        "        print('Class 1') "
      ],
      "metadata": {
        "id": "m9BG00hMsTEz"
      },
      "execution_count": 14,
      "outputs": []
    },
    {
      "cell_type": "markdown",
      "source": [
        "## Question 5\n",
        "\n",
        "What will be the predicted label for the point $[1, 0, 1, 0]$? \n",
        "\n"
      ],
      "metadata": {
        "id": "3oJ0jnoHHcd9"
      }
    },
    {
      "cell_type": "code",
      "source": [
        "# Enter your solution here\n",
        "class_0 = p0_0*(1-p0_1)*p0_2*(1-p0_3)*(1-p) \n",
        "class_1 = p1_0*(1-p1_1)*p1_2*(1-p1_3)*p\n",
        "\n",
        "if class_0 > class_1:\n",
        "    print('Class 0')\n",
        "else:\n",
        "    print('Class 1')"
      ],
      "metadata": {
        "id": "MoYmaBy9KQSU",
        "colab": {
          "base_uri": "https://localhost:8080/"
        },
        "outputId": "72a2e24b-1d17-45da-9e3c-7d8cf7dca19c"
      },
      "execution_count": 15,
      "outputs": [
        {
          "output_type": "stream",
          "name": "stdout",
          "text": [
            "Class 1\n"
          ]
        }
      ]
    },
    {
      "cell_type": "code",
      "source": [
        "x = np.array([1,0,1,0])\n",
        "predict(x, p, est)"
      ],
      "metadata": {
        "colab": {
          "base_uri": "https://localhost:8080/"
        },
        "id": "jRDyQnpTROyb",
        "outputId": "c1fd970b-9a73-4842-871c-6c4350f96c3a"
      },
      "execution_count": 16,
      "outputs": [
        {
          "output_type": "stream",
          "name": "stdout",
          "text": [
            "Class 1\n"
          ]
        }
      ]
    },
    {
      "cell_type": "markdown",
      "source": [
        "## Question 6\n",
        "\n",
        "What will be the predicted label for the point $[1, 0, 1, 1]$? \n",
        "\n"
      ],
      "metadata": {
        "id": "3J2SCm1yHxd4"
      }
    },
    {
      "cell_type": "code",
      "source": [
        "# Enter your solution here\n",
        "x = np.array([1,0,1,1])\n",
        "predict(x, p, est)"
      ],
      "metadata": {
        "id": "tK04m9YU7cXy",
        "colab": {
          "base_uri": "https://localhost:8080/"
        },
        "outputId": "57a06391-0a11-4dcb-f373-d07440e4c8ea"
      },
      "execution_count": 17,
      "outputs": [
        {
          "output_type": "stream",
          "name": "stdout",
          "text": [
            "Class 0\n"
          ]
        }
      ]
    },
    {
      "cell_type": "markdown",
      "source": [
        "# Gaussian naive Bayes"
      ],
      "metadata": {
        "id": "45p6DAPA7dCl"
      }
    },
    {
      "cell_type": "markdown",
      "source": [
        "Run the below cell to get the following variables:\n",
        "\n",
        "`X_train` = Training dataset of the shape $(n, d)$. All the examples are coming from multivariate gaussian distribution.\n",
        "\n",
        "`y_train` = label vector for corresponding training examples. labels are $0$ and $1$.\n",
        "\n",
        "`X_test` = Test dataset of the shape $(m, d)$, where $m$ is the number of examples in the test dataset. All the examples are coming from multivariate gaussian distribution.\n",
        "\n",
        "`y_test` = label vector for corresponding test examples. labels are $0$ and $1$.\n",
        "\n"
      ],
      "metadata": {
        "id": "bbamhBbvjuzj"
      }
    },
    {
      "cell_type": "code",
      "source": [
        "from sklearn.datasets import make_classification, make_blobs\n",
        "from sklearn.model_selection import train_test_split\n",
        "\n",
        "# generate artificial data points\n",
        "X, y = make_blobs(n_samples = 100,\n",
        "                  n_features=2, \n",
        "                  centers=[[5,5],[10,10]],\n",
        "                  cluster_std=1.5,\n",
        "                  random_state=2)\n",
        "\n",
        "X_train, X_test, y_train, y_test = train_test_split(X, y, test_size=0.2,\n",
        "                                                    random_state=123)"
      ],
      "metadata": {
        "id": "qtqz8DPG7gok"
      },
      "execution_count": 18,
      "outputs": []
    },
    {
      "cell_type": "markdown",
      "source": [
        "## Question 7\n",
        "\n",
        "How many examples are there in the trianing dataset?\n",
        "\n"
      ],
      "metadata": {
        "id": "BRc3AVIZkphz"
      }
    },
    {
      "cell_type": "code",
      "source": [
        "# Enter your solution here\n",
        "X_train.shape[0]"
      ],
      "metadata": {
        "id": "9nqy1H-nkybF",
        "colab": {
          "base_uri": "https://localhost:8080/"
        },
        "outputId": "1d1ea2a0-8220-419a-dced-cfe3692c0d95"
      },
      "execution_count": 19,
      "outputs": [
        {
          "output_type": "execute_result",
          "data": {
            "text/plain": [
              "80"
            ]
          },
          "metadata": {},
          "execution_count": 19
        }
      ]
    },
    {
      "cell_type": "markdown",
      "source": [
        "## Question 8\n",
        "How many features are there in the dataset?\n",
        "\n"
      ],
      "metadata": {
        "id": "KhQF7arNk6xf"
      }
    },
    {
      "cell_type": "code",
      "source": [
        "# Enter your solution here\n",
        "X_train.shape[1]"
      ],
      "metadata": {
        "id": "uoO-_Wv9lruv",
        "colab": {
          "base_uri": "https://localhost:8080/"
        },
        "outputId": "1b5241a6-0efc-4958-97c8-15b28cbf0278"
      },
      "execution_count": 20,
      "outputs": [
        {
          "output_type": "execute_result",
          "data": {
            "text/plain": [
              "2"
            ]
          },
          "metadata": {},
          "execution_count": 20
        }
      ]
    },
    {
      "cell_type": "markdown",
      "source": [
        "## Question 9\n",
        "\n",
        "If we train the Gaussian naive Bayes model on the trianing dataset, What will be the value of $\\hat{p}$, the estimate for $P(Y=1)$? Write your answer correct to two decimal places.\n",
        "\n",
        "\n",
        "\n"
      ],
      "metadata": {
        "id": "yf2hc7NDlxm8"
      }
    },
    {
      "cell_type": "code",
      "source": [
        "# Enter your solution here\n",
        "y_train.mean()"
      ],
      "metadata": {
        "id": "LpJE6KJ5mpBp",
        "colab": {
          "base_uri": "https://localhost:8080/"
        },
        "outputId": "1c42fddf-3f28-429d-87af-354d5c87e077"
      },
      "execution_count": 21,
      "outputs": [
        {
          "output_type": "execute_result",
          "data": {
            "text/plain": [
              "0.4875"
            ]
          },
          "metadata": {},
          "execution_count": 21
        }
      ]
    },
    {
      "cell_type": "code",
      "source": [
        "def Gestimates(X, y):\n",
        "    p = y.mean()\n",
        "    X0_train = X_train[y_train==0]\n",
        "    X0_train_mean = X0_train.mean(axis=0)\n",
        "    X0_train_var = X0_train.var(axis=0)\n",
        "\n",
        "    X1_train = X_train[y_train==1]\n",
        "    X1_train_mean = X1_train.mean(axis=0)\n",
        "    X1_train_var = X1_train.var(axis=0)\n",
        "\n",
        "    mu = np.vstack((X0_train_mean, X1_train_mean))\n",
        "    var = np.vstack((X0_train_var, X1_train_var))\n",
        "\n",
        "    return p, mu, var            "
      ],
      "metadata": {
        "id": "Dw4ki7Y9dWgs"
      },
      "execution_count": 35,
      "outputs": []
    },
    {
      "cell_type": "code",
      "source": [
        "p, mu, var = Gestimates(X_train, y_train)"
      ],
      "metadata": {
        "id": "vCeqznUpf7Ex"
      },
      "execution_count": 23,
      "outputs": []
    },
    {
      "cell_type": "code",
      "source": [
        "mu"
      ],
      "metadata": {
        "colab": {
          "base_uri": "https://localhost:8080/"
        },
        "id": "sJ0ShnQigY_G",
        "outputId": "1b05dac5-146c-4462-8022-fc0ca874dcce"
      },
      "execution_count": 24,
      "outputs": [
        {
          "output_type": "execute_result",
          "data": {
            "text/plain": [
              "array([[ 4.55853975,  5.01739665],\n",
              "       [10.30431548, 10.08580617]])"
            ]
          },
          "metadata": {},
          "execution_count": 24
        }
      ]
    },
    {
      "cell_type": "code",
      "source": [
        "var"
      ],
      "metadata": {
        "colab": {
          "base_uri": "https://localhost:8080/"
        },
        "id": "n1-pB_6Yga8V",
        "outputId": "28d2ccb2-e282-46cb-e358-eb4fef88e747"
      },
      "execution_count": 25,
      "outputs": [
        {
          "output_type": "execute_result",
          "data": {
            "text/plain": [
              "array([[2.13298417, 2.30222002],\n",
              "       [3.22242307, 2.20662074]])"
            ]
          },
          "metadata": {},
          "execution_count": 25
        }
      ]
    },
    {
      "cell_type": "markdown",
      "source": [
        "## Question 10\n",
        "\n",
        "If $\\hat{\\mu}_0 = [\\mu_1, \\mu_2, ..., \\mu_d]$ be the estimate for $\\mu_0$, the mean of $0$ labeled examples, what will be the value of $\\mu_1+\\mu_2+...+\\mu_d$? Write your answer correct to two decimal places.\n",
        "\n"
      ],
      "metadata": {
        "id": "0wQUcpH7mrZr"
      }
    },
    {
      "cell_type": "code",
      "source": [
        "# Enter your solution here\n",
        "X0_train = X_train[y_train==0]\n",
        "X0_train_mean = X0_train.mean(axis=0)\n",
        "X0_train_mean.sum()"
      ],
      "metadata": {
        "id": "mtZ_BtxImJ0J",
        "colab": {
          "base_uri": "https://localhost:8080/"
        },
        "outputId": "aed87b87-55fe-4643-def9-086356bd9a2b"
      },
      "execution_count": 26,
      "outputs": [
        {
          "output_type": "execute_result",
          "data": {
            "text/plain": [
              "9.575936394688135"
            ]
          },
          "metadata": {},
          "execution_count": 26
        }
      ]
    },
    {
      "cell_type": "code",
      "source": [
        "mu[0].sum()"
      ],
      "metadata": {
        "colab": {
          "base_uri": "https://localhost:8080/"
        },
        "id": "VqCGOY9agon3",
        "outputId": "8f2b8ec7-225a-4a79-e4b0-c3a28c25c15d"
      },
      "execution_count": 27,
      "outputs": [
        {
          "output_type": "execute_result",
          "data": {
            "text/plain": [
              "9.575936394688135"
            ]
          },
          "metadata": {},
          "execution_count": 27
        }
      ]
    },
    {
      "cell_type": "markdown",
      "source": [
        "We will be using the different covariances for different labeled examples. The estimate for $\\Sigma_k$ will be \n",
        "\n",
        "$$\\hat{\\Sigma}_k = \\sigma_iI$$ where $\\sigma_i$ is the variance of $i^{th}$ feature values of examples labeled $k$.\n",
        "\n"
      ],
      "metadata": {
        "id": "1mnoFEJQnq9E"
      }
    },
    {
      "cell_type": "markdown",
      "source": [
        "## Question 11\n",
        "What will be value of $\\text{trace}({\\hat{\\Sigma}}_0)$?  Write your answer correct to two decimal places.\n",
        "\n",
        "\n",
        "\n",
        "\n",
        "\n"
      ],
      "metadata": {
        "id": "f-aioEqdpng7"
      }
    },
    {
      "cell_type": "code",
      "source": [
        "# Enter your solution here\n",
        "var[0].sum()"
      ],
      "metadata": {
        "id": "ExzW4sEOqpEF",
        "colab": {
          "base_uri": "https://localhost:8080/"
        },
        "outputId": "c48c7642-44ff-49a0-e91c-79990e83b47f"
      },
      "execution_count": 28,
      "outputs": [
        {
          "output_type": "execute_result",
          "data": {
            "text/plain": [
              "4.435204194501573"
            ]
          },
          "metadata": {},
          "execution_count": 28
        }
      ]
    },
    {
      "cell_type": "markdown",
      "source": [
        "## Question 12\n",
        "\n",
        "Once we have estimated all the parameters for Gaussian naive Bayes assuming the different covariance matrices, we predict the labels for the training examples. What will be the training accuracy?\n",
        "\n",
        "Accuracy is defined as the proportion of correctly classified examples.  Write your answer correct to two decimal places.\n",
        "\n",
        "\n"
      ],
      "metadata": {
        "id": "UKbeWd7fq1Ny"
      }
    },
    {
      "cell_type": "code",
      "source": [
        "# Enter your solution here\n",
        "def G_pdf(x, mu, var, label):\n",
        "\n",
        "    d = len(x)\n",
        "    covar = np.diag(var[label])\n",
        "    covar_inv = np.linalg.inv(covar)\n",
        "\n",
        "    z = np.power(2 * np.pi, d/2) * np.power(np.linalg.det(covar), 1/2)\n",
        "    return (1/z) * np.exp(-(x - mu[label]).T @ covar_inv @ (x - mu[label]))"
      ],
      "metadata": {
        "id": "YIg9Z1K0GwUo"
      },
      "execution_count": 33,
      "outputs": []
    },
    {
      "cell_type": "code",
      "source": [
        "def gnaive_pred(X, p, mu, var, labels):\n",
        "\n",
        "    n = X.shape[0]\n",
        "    d = X.shape[1]\n",
        "\n",
        "    likelihood_prior = np.zeros((n, len(labels)))\n",
        "\n",
        "    for i in range(n):\n",
        "        for j in range(len(labels)):\n",
        "\n",
        "            likelihood_prior[i, j] = np.log(G_pdf(X[i], mu, var, j)) + np.log((p**j) * ((1-p)**(1-j)))\n",
        "    return np.argmax(likelihood_prior, axis=1)"
      ],
      "metadata": {
        "id": "SGTZE4WmEppK"
      },
      "execution_count": 42,
      "outputs": []
    },
    {
      "cell_type": "code",
      "source": [
        "labels = np.unique(y_train)\n",
        "p, mu, var = Gestimates(X_train, y_train)\n",
        "y_train_pred = gnaive_pred(X_train, p, mu, var, labels)"
      ],
      "metadata": {
        "id": "xaAk8d2GLjAs"
      },
      "execution_count": 43,
      "outputs": []
    },
    {
      "cell_type": "code",
      "source": [
        "(y_train == y_train_pred).mean()*100"
      ],
      "metadata": {
        "colab": {
          "base_uri": "https://localhost:8080/"
        },
        "id": "UW6-4TNwMqtb",
        "outputId": "1c464d7e-b504-47de-93d2-179608b20eb0"
      },
      "execution_count": 45,
      "outputs": [
        {
          "output_type": "execute_result",
          "data": {
            "text/plain": [
              "98.75"
            ]
          },
          "metadata": {},
          "execution_count": 45
        }
      ]
    },
    {
      "cell_type": "markdown",
      "source": [
        "## Question 13\n",
        "\n",
        "What will be the test accuracy?\n",
        "\n",
        "Accuracy is defined as the proportion of correctly classified examples.  \n",
        "\n",
        "\n"
      ],
      "metadata": {
        "id": "kg661kj3uaxx"
      }
    },
    {
      "cell_type": "code",
      "source": [
        "# Enter your solution here\n",
        "y_test_pred = gnaive_pred(X_test, p, mu, var, labels)"
      ],
      "metadata": {
        "id": "ST0Ri7TEujUw"
      },
      "execution_count": 47,
      "outputs": []
    },
    {
      "cell_type": "code",
      "source": [
        "(y_test == y_test_pred).mean()*100"
      ],
      "metadata": {
        "colab": {
          "base_uri": "https://localhost:8080/"
        },
        "id": "diV7c6k0Ner5",
        "outputId": "d7c2a05d-949d-46cb-9e96-3e7087d9d13a"
      },
      "execution_count": 48,
      "outputs": [
        {
          "output_type": "execute_result",
          "data": {
            "text/plain": [
              "100.0"
            ]
          },
          "metadata": {},
          "execution_count": 48
        }
      ]
    }
  ]
}