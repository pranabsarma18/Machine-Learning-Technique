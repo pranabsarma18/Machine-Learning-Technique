{
  "nbformat": 4,
  "nbformat_minor": 0,
  "metadata": {
    "colab": {
      "provenance": [],
      "collapsed_sections": [],
      "include_colab_link": true
    },
    "kernelspec": {
      "name": "python3",
      "display_name": "Python 3"
    },
    "language_info": {
      "name": "python"
    }
  },
  "cells": [
    {
      "cell_type": "markdown",
      "metadata": {
        "id": "view-in-github",
        "colab_type": "text"
      },
      "source": [
        "<a href=\"https://colab.research.google.com/github/pranabsarma18/Machine-Learning-Technique/blob/main/Python%20Implementation/GMM_Week_4_part_2.ipynb\" target=\"_parent\"><img src=\"https://colab.research.google.com/assets/colab-badge.svg\" alt=\"Open In Colab\"/></a>"
      ]
    },
    {
      "cell_type": "markdown",
      "source": [
        "# Week-4: Part-2\n"
      ],
      "metadata": {
        "id": "53TcQvUOjGxr"
      }
    },
    {
      "cell_type": "code",
      "source": [
        "import numpy as np\n",
        "import matplotlib.pyplot as plt\n",
        "# Set size of figure\n",
        "plt.rcParams['figure.figsize'] = [8, 8]\n",
        "# Set size of font\n",
        "plt.rcParams['font.size'] = 10"
      ],
      "metadata": {
        "id": "FasmVZvHPgMW"
      },
      "execution_count": 4,
      "outputs": []
    },
    {
      "cell_type": "markdown",
      "source": [
        "## GMM\n",
        "\n",
        "Now that we know how to sample from simple distributions like the Bernoulli and Gaussian, we shall move to sampling from a GMM. There are two steps here:\n",
        "\n",
        "- Pick a mixture $k$ from $K$ mixtures based on the categorical distribution governing it\n",
        "- Sample a point from the $k^{th}$ Gaussian"
      ],
      "metadata": {
        "id": "7A9Gri4ZP1oK"
      }
    },
    {
      "cell_type": "markdown",
      "source": [
        "## Problem-1\n",
        "\n",
        "Consider a GMM with $K = 3$. The mixture probabilities are given below. It is easier to work with zero-indexing, hence we will index our mixtures starting from $0$:\n",
        "\n",
        "$$\n",
        "\\pi_0 = 0.3\\\\\n",
        "\\pi_1 = 0.5\\\\\n",
        "\\pi_2 = 0.2\n",
        "$$\n",
        "\n",
        "Perform step-1 of the sampling process by choosing one of the three mixtures based on the above distribution. Call this value $k$. Use the cell given below for all your computation. Do not change the seed value. Enter $k$ as your answer."
      ],
      "metadata": {
        "id": "1GlVAG9-8qFY"
      }
    },
    {
      "cell_type": "code",
      "source": [
        "### RNG ###\n",
        "rng = np.random.default_rng(seed = 1001)\n",
        "k = rng.choice([0, 1, 2], size = 1, p = [0.3, 0.5, 0.2])\n",
        "k\n",
        "### Solution ###"
      ],
      "metadata": {
        "id": "aQqjseA3RYkB",
        "colab": {
          "base_uri": "https://localhost:8080/"
        },
        "outputId": "58ddd9d0-f23f-4112-bb39-4bf34ddb462a"
      },
      "execution_count": 5,
      "outputs": [
        {
          "output_type": "execute_result",
          "data": {
            "text/plain": [
              "array([1])"
            ]
          },
          "metadata": {},
          "execution_count": 5
        }
      ]
    },
    {
      "cell_type": "markdown",
      "source": [
        "## Problem-2\n",
        "\n",
        "Now we move to step-2 of the sampling process. Sample a point from mixture $k$ (obtained from the previous question). The means and variances of the mixtures are as follows:\n",
        "\n",
        "$$\n",
        "\\mu_1 = -4, \\sigma_1^2 = 2\\\\\n",
        "\\mu_2 = 0, \\sigma_2^2 = 1\\\\\n",
        "\\mu_3 = 5, \\sigma_3^2 = 3\n",
        "$$\n",
        "\n",
        "\n",
        "Use the cell given below for all your computation. Enter the sampled point correct to three decimal places."
      ],
      "metadata": {
        "id": "4hd29e0n9mar"
      }
    },
    {
      "cell_type": "code",
      "source": [
        "### RNG ###\n",
        "rng = np.random.default_rng(seed = 1001)\n",
        "if k == 0:\n",
        "  x = rng.normal(-4, np.sqrt(2))\n",
        "if k == 1:\n",
        "  x = rng.normal(0, np.sqrt(1))\n",
        "if k == 2:\n",
        "  x = rng.normal(5, np.sqrt(3))\n",
        "x\n",
        "### Solution ###"
      ],
      "metadata": {
        "id": "D0TUgnKG91t2",
        "colab": {
          "base_uri": "https://localhost:8080/"
        },
        "outputId": "415f9128-f140-4dc9-e23f-6bd5ea46ca35"
      },
      "execution_count": 6,
      "outputs": [
        {
          "output_type": "execute_result",
          "data": {
            "text/plain": [
              "0.9323224351204542"
            ]
          },
          "metadata": {},
          "execution_count": 6
        }
      ]
    },
    {
      "cell_type": "markdown",
      "source": [
        "## Problem-3\n",
        "\n",
        "Now that we have sampled one point, we are ready to do more. Sample $100,000$ points from the GMM. Generate each point step by step. Store the samples in a NumPy array `X` of shape $(100,000, )$. `X[i]` should hold the value of the $i^{th}$ point generated from the GMM.  Use the cell below for all your computation. Enter the mean of `X` as your answer correct to three decimal places."
      ],
      "metadata": {
        "id": "7FnbGy4p-jeK"
      }
    },
    {
      "cell_type": "code",
      "source": [
        "### RNG ###\n",
        "rng = np.random.default_rng(seed = 1001)\n",
        "X = np.zeros(100000)\n",
        "for i in range(100000):\n",
        "  k = rng.choice([0, 1, 2], size = 1, p = [0.3, 0.5, 0.2])\n",
        "  if k == 0:\n",
        "    X[i] = rng.normal(-4, np.sqrt(2))\n",
        "  if k == 1:\n",
        "    X[i] = rng.normal(0, np.sqrt(1))\n",
        "  if k == 2:\n",
        "    X[i] = rng.normal(5, np.sqrt(3))\n",
        "\n",
        "X.mean()\n",
        "### Solution ###"
      ],
      "metadata": {
        "id": "XA8gv2jq-rTC",
        "colab": {
          "base_uri": "https://localhost:8080/"
        },
        "outputId": "8a157593-bbc4-4c3a-9703-09145a04d615"
      },
      "execution_count": 7,
      "outputs": [
        {
          "output_type": "execute_result",
          "data": {
            "text/plain": [
              "-0.1930762698848285"
            ]
          },
          "metadata": {},
          "execution_count": 7
        }
      ]
    },
    {
      "cell_type": "markdown",
      "source": [
        "## Problem-4\n",
        "\n",
        "Plot a histogram of the dataset. Play around with the `bins` parameter of the `plt.hist` method. We will be using this dataset `X` all through the next section of the colab."
      ],
      "metadata": {
        "id": "2heXmKhI_uXb"
      }
    },
    {
      "cell_type": "code",
      "source": [
        "### Solution ###\n",
        "plt.hist(X, bins = 100, ec = 'black');"
      ],
      "metadata": {
        "id": "lpor62HP_xPF",
        "colab": {
          "base_uri": "https://localhost:8080/",
          "height": 483
        },
        "outputId": "e7c9d6d0-002e-4605-db44-634479bdd4ea"
      },
      "execution_count": 8,
      "outputs": [
        {
          "output_type": "display_data",
          "data": {
            "text/plain": [
              "<Figure size 576x576 with 1 Axes>"
            ],
            "image/png": "[encoded data removed]"
          },
          "metadata": {
            "needs_background": "light"
          }
        }
      ]
    },
    {
      "cell_type": "markdown",
      "source": [
        "## EM algorithm\n",
        "\n",
        "It is time to start coding up the EM algorithm from scratch. We will break this down into five stages:\n",
        "\n",
        "- Initialization\n",
        "- E-step\n",
        "- M-step\n",
        "- Stopping criterion\n",
        "- Algorithm\n",
        "\n",
        "For each of the first four stages, we will write functions that are related to that stage. All these functions will be eventually used in the code for the EM algorithm. This is a modular approach to writing the code. We have identified four blocks or stages. We can independently work on these four blocks and finally combine them. If something goes wrong, we can quickly localize the problem to one of these four blocks.\n"
      ],
      "metadata": {
        "id": "t1VFwTY0ArhB"
      }
    },
    {
      "cell_type": "markdown",
      "source": [
        "## Problem-5\n",
        "\n",
        "Write a function `init` that initializes the parameters of the GMM and returns `theta_0`, a NumPy array of shape $(3K, )$. The first $K$ elements of `theta_0` ($\\boldsymbol{\\theta}^{(0)}$) represents the means of the three mixtures, the next $K$ represent the variances and the last $K$ represent the mixture probabilities.\n",
        "\n",
        "The exact values to be used are as follows:\n",
        "\n",
        "- $\\mu_0 = 1, \\mu_1 = 2, \\mu_2 = 3$\n",
        "- $\\sigma_0^2 = \\sigma_1^2 = \\sigma_2^2 = 1$\n",
        "- $\\pi_0 = \\pi_1 = \\pi_2 = 1/3$ \n",
        "\n",
        "Enter $||\\boldsymbol{\\theta}^{(0)}||$ as your answer correct to two decimal places. Keep this variable `theta_0` as it will be used in subsequent problems."
      ],
      "metadata": {
        "id": "YuhQSnp0BChl"
      }
    },
    {
      "cell_type": "code",
      "source": [
        "### Solution ###\n",
        "def init():\n",
        "  mu = [1, 2, 3]\n",
        "  sigma2 = [1, 1, 1]\n",
        "  pi = [1/3, 1/3, 1/3]\n",
        "  theta_0 = mu + sigma2 + pi\n",
        "  return theta_0\n",
        "theta_0 = init()\n",
        "round(np.linalg.norm(theta_0),2)"
      ],
      "metadata": {
        "id": "HKe2dspvIUgE",
        "colab": {
          "base_uri": "https://localhost:8080/"
        },
        "outputId": "3375072b-4e22-4032-e716-e6d99037f788"
      },
      "execution_count": 9,
      "outputs": [
        {
          "output_type": "execute_result",
          "data": {
            "text/plain": [
              "4.16"
            ]
          },
          "metadata": {},
          "execution_count": 9
        }
      ]
    },
    {
      "cell_type": "markdown",
      "source": [
        "## Problem-6\n",
        "\n",
        "Write a function `estep` that accepts `theta` and `X` as arguments. It should perform the E-step and return an array `lamb` of shape `(n, K)`. The element `lamb[i][k]` is equal to $\\lambda_k^{i}$. For the purposes of evaluation, run the function on `theta_0` and `X`. Call the returned value `lamb_1`.  Compute the sum of the zeroth column of the matrix `lamb_1` and enter that as your answer correct to two decimal places. Keep this variable `lamb_1` as it will be used in subsequent problems.\n",
        "\n",
        "\n",
        "**Aside**: We prefer the variable name `lamb` over `lambda` for a reason. Can you guess why?"
      ],
      "metadata": {
        "id": "EgsmXOKYJ76X"
      }
    },
    {
      "cell_type": "code",
      "source": [
        "def gaussian(x, mu, sigma):\n",
        "  den = sigma*np.sqrt(2*np.pi)\n",
        "  num = np.exp((-(x-mu)**2)/(2*sigma**2))\n",
        "  return num/den"
      ],
      "metadata": {
        "id": "wAAE-O1CWl-y"
      },
      "execution_count": 10,
      "outputs": []
    },
    {
      "cell_type": "code",
      "source": [
        "X.shape[0]"
      ],
      "metadata": {
        "colab": {
          "base_uri": "https://localhost:8080/"
        },
        "id": "lIIfOV1cWCE6",
        "outputId": "549978b2-ae1f-4bb0-c728-4705df2608d0"
      },
      "execution_count": 11,
      "outputs": [
        {
          "output_type": "execute_result",
          "data": {
            "text/plain": [
              "100000"
            ]
          },
          "metadata": {},
          "execution_count": 11
        }
      ]
    },
    {
      "cell_type": "code",
      "source": [
        "### Solution ###\n",
        "def estep(theta, X):\n",
        "  lamb = np.zeros([X.shape[0],3])\n",
        "  for i in range(X.shape[0]):\n",
        "    for k in range(3):\n",
        "      Pik = theta[-3+k]\n",
        "      num = gaussian(X[i], theta[k], np.sqrt(theta[k+3]))*Pik\n",
        "      den = sum([gaussian(X[i], theta[j], np.sqrt(theta[j+3]))*theta[-3+j] for j in range(3)])\n",
        "      lamb[i][k] = num/den\n",
        "  return lamb"
      ],
      "metadata": {
        "id": "kKH7zNZ6IJsb"
      },
      "execution_count": 12,
      "outputs": []
    },
    {
      "cell_type": "code",
      "source": [
        "lamb_1 = estep(theta_0, X)"
      ],
      "metadata": {
        "id": "XAFMSmnGX56a"
      },
      "execution_count": 13,
      "outputs": []
    },
    {
      "cell_type": "code",
      "source": [
        "lamb_1[:,0].sum()"
      ],
      "metadata": {
        "colab": {
          "base_uri": "https://localhost:8080/"
        },
        "id": "S8yO8DU5eQwx",
        "outputId": "4d78bbbf-a38d-4d83-9022-8e04a778332b"
      },
      "execution_count": 14,
      "outputs": [
        {
          "output_type": "execute_result",
          "data": {
            "text/plain": [
              "68226.19649822346"
            ]
          },
          "metadata": {},
          "execution_count": 14
        }
      ]
    },
    {
      "cell_type": "markdown",
      "source": [
        "## Problem-7\n",
        "\n",
        "Write a function `mstep` that accepts `lamb` and `X` as arguments. It should perform the M-step and return a NumPy array `theta`, the updated parameters, namely. We follow the same convention for storing the parameters as was done during the init step. For the purposes of evaluation, compute the value of the function for `lamb_1` and `X`. Call the returned value `theta_1` ($\\boldsymbol{\\theta}^{(1)}$). Enter $||\\boldsymbol{\\theta}^{(1)}||$  as your answer correct to two decimal places."
      ],
      "metadata": {
        "id": "Fqnf831nLAlP"
      }
    },
    {
      "cell_type": "code",
      "source": [
        "### Solution ###\n",
        "def mstep(lamb, X):\n",
        "  theta = []\n",
        "  # calculation of mean\n",
        "  for k in range(3):\n",
        "    theta.append(sum([lamb[i,k]*X[i] for i in range(X.shape[0])])/sum(lamb[:,k])) \n",
        "  # calculation of variance\n",
        "  for k in range(3):\n",
        "    theta.append(sum([lamb[i,k]*(X[i]-theta[k])**2 for i in range(X.shape[0])])/sum(lamb[:,k]))\n",
        "  # calculation of mixure prob (pi)\n",
        "  for k in range(3):\n",
        "    theta.append(sum(lamb[:,k])/X.shape[0])\n",
        "  return np.array(theta)\n",
        "theta_1 = mstep(lamb_1, X)\n",
        "np.linalg.norm(theta_1)"
      ],
      "metadata": {
        "id": "k9FSc2QiITDs",
        "colab": {
          "base_uri": "https://localhost:8080/"
        },
        "outputId": "718b2cc3-9b64-489f-9b2b-dfdbaec0ae52"
      },
      "execution_count": 15,
      "outputs": [
        {
          "output_type": "execute_result",
          "data": {
            "text/plain": [
              "8.691800143713898"
            ]
          },
          "metadata": {},
          "execution_count": 15
        }
      ]
    },
    {
      "cell_type": "code",
      "source": [
        "theta_1"
      ],
      "metadata": {
        "colab": {
          "base_uri": "https://localhost:8080/"
        },
        "id": "Huc18Bl_x3P6",
        "outputId": "8032fbc0-35ef-4d9a-98b7-f9cf96c61633"
      },
      "execution_count": 16,
      "outputs": [
        {
          "output_type": "execute_result",
          "data": {
            "text/plain": [
              "array([-1.84401327,  1.0795422 ,  4.93145319,  4.99571036,  2.50234357,\n",
              "        3.8634084 ,  0.68226196,  0.13029543,  0.1874426 ])"
            ]
          },
          "metadata": {},
          "execution_count": 16
        }
      ]
    },
    {
      "cell_type": "markdown",
      "source": [
        "## Problem-8\n",
        "\n",
        "Given two vectors $\\boldsymbol{\\theta}^{(t)}$ and $\\boldsymbol{\\theta}^{(t + 1)}$, write a function `distance` that accepts these two vectors as arguments and returns the distance between them:\n",
        "\n",
        "$$\n",
        "||\\boldsymbol{\\theta}^{(t + 1)} - \\boldsymbol{\\theta}^{(t)}||\n",
        "$$\n",
        "\n",
        "For the purposes of evaluation, compute the distance between $\\boldsymbol{\\theta}^{(0)}$ and $\\boldsymbol{\\theta}^{(1)}$ and report your answer correct to two decimal places."
      ],
      "metadata": {
        "id": "0SLzBm4fLRSK"
      }
    },
    {
      "cell_type": "code",
      "source": [
        "### Solution ###\n",
        "def distance(theta_0, theta_1):\n",
        "  return np.linalg.norm(theta_0-theta_1)"
      ],
      "metadata": {
        "id": "f-dyb9_4IVwI"
      },
      "execution_count": 17,
      "outputs": []
    },
    {
      "cell_type": "code",
      "source": [
        "theta_1"
      ],
      "metadata": {
        "colab": {
          "base_uri": "https://localhost:8080/"
        },
        "id": "IqxjAWmdxgOa",
        "outputId": "01e79dcb-99e5-4dad-f1bc-fe1ec6cc63d4"
      },
      "execution_count": 18,
      "outputs": [
        {
          "output_type": "execute_result",
          "data": {
            "text/plain": [
              "array([-1.84401327,  1.0795422 ,  4.93145319,  4.99571036,  2.50234357,\n",
              "        3.8634084 ,  0.68226196,  0.13029543,  0.1874426 ])"
            ]
          },
          "metadata": {},
          "execution_count": 18
        }
      ]
    },
    {
      "cell_type": "code",
      "source": [
        "distance(theta_0, theta_1)"
      ],
      "metadata": {
        "colab": {
          "base_uri": "https://localhost:8080/"
        },
        "id": "xOaw9D93xPxB",
        "outputId": "47dc2387-c649-4e5d-b59d-840e442b93ad"
      },
      "execution_count": 19,
      "outputs": [
        {
          "output_type": "execute_result",
          "data": {
            "text/plain": [
              "6.266759156221261"
            ]
          },
          "metadata": {},
          "execution_count": 19
        }
      ]
    },
    {
      "cell_type": "markdown",
      "source": [
        "## Problem-9\n",
        "\n",
        "Perform the EM algorithm until convergence. The stopping-criterion is that the distance between the two parameter-vectors should be less than $0.01$.\n",
        "\n",
        "$$\n",
        "||\\boldsymbol{\\theta}^{(t + 1)} - \\boldsymbol{\\theta}^{(t)}|| < 0.01\n",
        "$$\n",
        "\n",
        "\n",
        "Initialize the parameters to $\\boldsymbol{\\theta}^{(0)}$. Find the number of iterations it takes for the algorithm to converge. Enter this as your answer. \n",
        "\n",
        "This is going to take some time. Hold tight!"
      ],
      "metadata": {
        "id": "FFQwFcH6MELs"
      }
    },
    {
      "cell_type": "code",
      "source": [
        "### Solution ###\n",
        "theta_0 = init()\n",
        "lamb_1 = estep(theta_0, X)\n",
        "theta_1 = mstep(lamb_1, X)\n",
        "n = 0\n",
        "while(distance(theta_0, theta_1) >= 0.01):\n",
        "  n = n + 1\n",
        "  theta_0 = theta_1\n",
        "  lamb_1 = estep(theta_1, X)\n",
        "  theta_1 = mstep(lamb_1, X)\n",
        "print(n)"
      ],
      "metadata": {
        "id": "lqRgxVx2IXMp",
        "colab": {
          "base_uri": "https://localhost:8080/"
        },
        "outputId": "b77d334a-06d6-4cbe-fc06-c1fe3d5df224"
      },
      "execution_count": 20,
      "outputs": [
        {
          "output_type": "stream",
          "name": "stdout",
          "text": [
            "71\n"
          ]
        }
      ]
    },
    {
      "cell_type": "markdown",
      "source": [
        "## Problem-10\n",
        "\n",
        "Let us now verify the correctness of our algorithm. We know the true parameters here:\n",
        "\n",
        "$$\n",
        "\\boldsymbol{\\theta} = \\begin{bmatrix}\n",
        "-4\\\\\n",
        "0\\\\\n",
        "5\\\\\n",
        "2\\\\\n",
        "1\\\\\n",
        "3\\\\\n",
        "0.3\\\\\n",
        "0.5\\\\\n",
        "0.2\n",
        "\\end{bmatrix}\n",
        "$$\n",
        "\n",
        "Let $\\boldsymbol{\\theta}^{*}$ be the parameter at convergence. Compute the distance between this vector and the true parameter vector. Enter your answer correct to two decimal places. The smaller the distance, better our estimate."
      ],
      "metadata": {
        "id": "zB33Rp_4awWp"
      }
    },
    {
      "cell_type": "code",
      "source": [
        "### Solution ###\n",
        "theta_final = theta_1\n",
        "theta_actual = [-4, 0, 5, 2, 1, 3, 0.3, 0.5, 0.2]\n",
        "np.linalg.norm(theta_final - theta_actual)"
      ],
      "metadata": {
        "id": "WdfWCxQVbvBy",
        "colab": {
          "base_uri": "https://localhost:8080/"
        },
        "outputId": "660a2f69-0679-4b0b-c732-0b7e0bb1895c"
      },
      "execution_count": 21,
      "outputs": [
        {
          "output_type": "execute_result",
          "data": {
            "text/plain": [
              "0.10196573248872984"
            ]
          },
          "metadata": {},
          "execution_count": 21
        }
      ]
    },
    {
      "cell_type": "markdown",
      "source": [
        "## Problem-11\n",
        "\n",
        "We shall do a hard clustering of the data-points. Use the final `lamb` value obtained and cluster the points using:\n",
        "\n",
        "$$\n",
        "z_i = \\operatorname*{argmax} \\limits_{k} \\lambda_k^{i}\n",
        "$$\n",
        "\n",
        "Let $0$, $1$ and $2$ correspond to the colors red, blue and green respectively. Plot three colored histograms on the same figure, one for each cluster."
      ],
      "metadata": {
        "id": "oD5eJxOBMfN-"
      }
    },
    {
      "cell_type": "code",
      "source": [
        "lamb_1"
      ],
      "metadata": {
        "colab": {
          "base_uri": "https://localhost:8080/"
        },
        "id": "n6nwV3JEtR1D",
        "outputId": "5010bee2-a6a3-43b4-a05a-7caaa90963be"
      },
      "execution_count": 25,
      "outputs": [
        {
          "output_type": "execute_result",
          "data": {
            "text/plain": [
              "array([[1.28035810e-02, 9.84250961e-01, 2.94545836e-03],\n",
              "       [7.78460794e-01, 2.21411464e-01, 1.27741730e-04],\n",
              "       [9.99942804e-01, 5.70032273e-05, 1.92873866e-07],\n",
              "       ...,\n",
              "       [1.06505957e-06, 2.77785594e-03, 9.97221079e-01],\n",
              "       [1.04364677e-01, 8.94785396e-01, 8.49927050e-04],\n",
              "       [1.51826953e-02, 9.82231101e-01, 2.58620378e-03]])"
            ]
          },
          "metadata": {},
          "execution_count": 25
        }
      ]
    },
    {
      "cell_type": "code",
      "source": [
        "### Solution ###\n",
        "Z = np.zeros(X.shape[0])\n",
        "\n",
        "for i in range(X.shape[0]):\n",
        "  Z[i] = np.argmax(lamb_1[i])"
      ],
      "metadata": {
        "id": "NwRMqRTQgWbg"
      },
      "execution_count": 29,
      "outputs": []
    },
    {
      "cell_type": "code",
      "source": [
        "plt.hist(X[Z==0], color = \"red\", bins = 100)\n",
        "plt.hist(X[Z==1], color = \"blue\", bins = 100)\n",
        "plt.hist(X[Z==2], color = \"green\", bins = 100);"
      ],
      "metadata": {
        "colab": {
          "base_uri": "https://localhost:8080/",
          "height": 483
        },
        "id": "cN0y2IEbufgq",
        "outputId": "4b687137-80f8-4026-dfe1-1c51d19b690c"
      },
      "execution_count": 30,
      "outputs": [
        {
          "output_type": "display_data",
          "data": {
            "text/plain": [
              "<Figure size 576x576 with 1 Axes>"
            ],
            "image/png": "[encoded data removed]"
          },
          "metadata": {
            "needs_background": "light"
          }
        }
      ]
    },
    {
      "cell_type": "markdown",
      "source": [
        "## Extras\n",
        "\n",
        "Here are some of the things that can be tried out:\n",
        "\n",
        "- Make the stopping criterion more stringent and see the effect it has on the number of iterations\n",
        "- Change the size of the dataset and study the effect it has on convergence.\n",
        "- Change the initialization and study the effect it has on convergence\n",
        "- Change the number of mixtures and see what happens"
      ],
      "metadata": {
        "id": "mLYpnfPd-aHq"
      }
    }
  ]
}