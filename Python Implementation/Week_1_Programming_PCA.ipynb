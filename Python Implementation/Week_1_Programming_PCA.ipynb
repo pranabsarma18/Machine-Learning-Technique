{
  "nbformat": 4,
  "nbformat_minor": 0,
  "metadata": {
    "colab": {
      "provenance": [],
      "collapsed_sections": [],
      "include_colab_link": true
    },
    "kernelspec": {
      "name": "python3",
      "display_name": "Python 3"
    },
    "language_info": {
      "name": "python"
    },
    "gpuClass": "standard"
  },
  "cells": [
    {
      "cell_type": "markdown",
      "metadata": {
        "id": "view-in-github",
        "colab_type": "text"
      },
      "source": [
        "<a href=\"https://colab.research.google.com/github/pranabsarma18/Machine-Learning-Technique/blob/main/Python%20Implementation/Week_1_Programming_PCA.ipynb\" target=\"_parent\"><img src=\"https://colab.research.google.com/assets/colab-badge.svg\" alt=\"Open In Colab\"/></a>"
      ]
    },
    {
      "cell_type": "markdown",
      "source": [
        "# Week-1\n",
        "\n",
        "**Note to Learners**: \n",
        "\n",
        "- Click on \"Copy to Drive\", the button that appears just below the taskbar, to make a copy of this notebook in your drive. If you continue working with this notebook, changes **will not** be saved.\n",
        "\n",
        "\n",
        "- For questions that involve plotting, just enter $0$ as the answer in the portal.\n",
        "- For numerical questions, there are two parts. The first part expects you to compute some quantity, say a parameter of a machine learning model. The second part will require you to convert this quantity (if it is not a scalar) into a scalar so that it can be entered as the answer on the portal to the corresponding NAT question.\n",
        "\n"
      ],
      "metadata": {
        "id": "53TcQvUOjGxr"
      }
    },
    {
      "cell_type": "markdown",
      "source": [
        "## Dataset\n",
        "\n",
        "We will be working with a subset of the [MNIST dataset](https://en.wikipedia.org/wiki/MNIST_database). Run the cell given below to generate the data-matrix $\\mathbf{X}$, which is of shape $(n, d)$, where $n$ denotes the number of samples and $d$ denotes the number of features. You will be using this dataset for the rest of the assignment. Do not edit this cell."
      ],
      "metadata": {
        "id": "I3DzbeU33QxN"
      }
    },
    {
      "cell_type": "code",
      "source": [
        "##### DATASET GENERATION #####\n",
        "import numpy as np\n",
        "from keras.datasets import mnist\n",
        "(X_train, y_train), (X_test, y_test) = mnist.load_data()\n",
        "X = X_train[y_train == 2][: 100].reshape(-1, 28 * 28)\n",
        "test_image = X_test[y_test == 2][0].reshape(28 * 28)\n",
        "##### DO NOT EDIT THIS CELL #####"
      ],
      "metadata": {
        "id": "uOBXmnyg3ZFH"
      },
      "execution_count": null,
      "outputs": []
    },
    {
      "cell_type": "markdown",
      "source": [
        "## Problem-1\n",
        "\n",
        "How many samples does the dataset have?"
      ],
      "metadata": {
        "id": "5RyvzK8z4o47"
      }
    },
    {
      "cell_type": "code",
      "source": [
        "X.shape[0]"
      ],
      "metadata": {
        "id": "rFXCXoje52x-",
        "colab": {
          "base_uri": "https://localhost:8080/"
        },
        "outputId": "39250673-abb3-4803-d0f2-785340c52b37"
      },
      "execution_count": null,
      "outputs": [
        {
          "output_type": "execute_result",
          "data": {
            "text/plain": [
              "100"
            ]
          },
          "metadata": {},
          "execution_count": 2
        }
      ]
    },
    {
      "cell_type": "markdown",
      "source": [
        "## Problem-2\n",
        "\n",
        "How many features does the dataset have?"
      ],
      "metadata": {
        "id": "UrmLi2sK4ynX"
      }
    },
    {
      "cell_type": "code",
      "source": [
        "X.shape[1]"
      ],
      "metadata": {
        "id": "WQ75O4D141R0",
        "colab": {
          "base_uri": "https://localhost:8080/"
        },
        "outputId": "b5e92ece-f354-4dbc-d180-c736a31c301f"
      },
      "execution_count": null,
      "outputs": [
        {
          "output_type": "execute_result",
          "data": {
            "text/plain": [
              "784"
            ]
          },
          "metadata": {},
          "execution_count": 3
        }
      ]
    },
    {
      "cell_type": "markdown",
      "source": [
        "## Problem-3\n",
        "\n",
        "Each sample corresponds to an image of dimension $28 \\times 28$. Visualize one of these images using the `matplotlib` library. \n",
        "\n",
        "- You need to know how to reshape a feature vector. Refer to week-0 content for the same.\n",
        "- You can refer to the following [document](https://matplotlib.org/stable/tutorials/introductory/images.html#sphx-glr-tutorials-introductory-images-py) for plotting NumPy arrays as images using `matplotlib`."
      ],
      "metadata": {
        "id": "BPUFxtI55G2h"
      }
    },
    {
      "cell_type": "code",
      "source": [
        "%matplotlib inline"
      ],
      "metadata": {
        "id": "ExvRNXPZ6246"
      },
      "execution_count": null,
      "outputs": []
    },
    {
      "cell_type": "code",
      "source": [
        "import matplotlib.pyplot as plt"
      ],
      "metadata": {
        "id": "QQKNqEjkPMMi"
      },
      "execution_count": null,
      "outputs": []
    },
    {
      "cell_type": "code",
      "source": [
        "img = X[1].reshape(28,28)\n",
        "imgplot = plt.imshow(img)"
      ],
      "metadata": {
        "colab": {
          "base_uri": "https://localhost:8080/",
          "height": 265
        },
        "id": "F6_0ZE0-PQA6",
        "outputId": "6c2e329a-a859-4b38-f5ef-68e7574c1d6b"
      },
      "execution_count": null,
      "outputs": [
        {
          "output_type": "display_data",
          "data": {
            "text/plain": [
              "<Figure size 432x288 with 1 Axes>"
            ],
            "image/png": "[encoded data removed]"
          },
          "metadata": {
            "needs_background": "light"
          }
        }
      ]
    },
    {
      "cell_type": "markdown",
      "source": [
        "## Problem-4\n",
        "\n",
        "Center the the dataset $\\mathbf{X}$ around its mean. Call this centered dataset $\\mathbf{X}^{\\prime}$.\n",
        "\n",
        "<u>Conversion</u>\n",
        "\n",
        "Enter the following quantity as your answer correct to two decimal places:\n",
        "\n",
        "$$\n",
        "\\cfrac{1}{n \\cdot d} \\sqrt{\\sum \\limits_{i = 1}^{n} \\sum \\limits_{j = 1}^{d} (X_{ij}^{\\prime})^2}\n",
        "$$"
      ],
      "metadata": {
        "id": "8e2xflo8FF8K"
      }
    },
    {
      "cell_type": "code",
      "source": [
        "X_mean = X.mean(axis=0)\n",
        "print(X_mean.shape)\n",
        "print(X.shape)\n",
        "X_c = X - X_mean\n",
        "n = X_c.shape[0]\n",
        "d = X_c.shape[1]\n",
        "s = 0\n",
        "for i in range(n):\n",
        "  for j in range(d):\n",
        "    s = s + (X_c[i,j])**2\n",
        "print(s)\n",
        "ans = (1/(n*d)) * (s**0.5)\n",
        "print(ans)"
      ],
      "metadata": {
        "id": "9uNDPtBjH5Df",
        "colab": {
          "base_uri": "https://localhost:8080/"
        },
        "outputId": "71fdb031-0394-47ce-be26-d0d81a692a5b"
      },
      "execution_count": null,
      "outputs": [
        {
          "output_type": "stream",
          "name": "stdout",
          "text": [
            "(784,)\n",
            "(100, 784)\n",
            "332036355.8400077\n",
            "0.23242174456564954\n"
          ]
        }
      ]
    },
    {
      "cell_type": "code",
      "source": [
        "a = np.array([1,2,3])\n",
        "a.T"
      ],
      "metadata": {
        "colab": {
          "base_uri": "https://localhost:8080/"
        },
        "id": "XpLvCQ4IyV9n",
        "outputId": "71aff37b-2ec9-42cf-ce1e-757825605339"
      },
      "execution_count": null,
      "outputs": [
        {
          "output_type": "execute_result",
          "data": {
            "text/plain": [
              "array([1, 2, 3])"
            ]
          },
          "metadata": {},
          "execution_count": 8
        }
      ]
    },
    {
      "cell_type": "code",
      "source": [
        "s = np.sum(X_c**2)\n",
        "(s**0.5)/(n*d)"
      ],
      "metadata": {
        "colab": {
          "base_uri": "https://localhost:8080/"
        },
        "id": "09ZzY4KjVAHD",
        "outputId": "a43650e3-2cbd-47a3-84ce-ed656a8c75f0"
      },
      "execution_count": null,
      "outputs": [
        {
          "output_type": "execute_result",
          "data": {
            "text/plain": [
              "0.23242174456564685"
            ]
          },
          "metadata": {},
          "execution_count": 9
        }
      ]
    },
    {
      "cell_type": "code",
      "source": [
        "a = np.array([[1,2,3],[4,5,6],[7,8,9]])\n",
        "print(a)\n",
        "a_mean = a.mean(axis=0)\n",
        "print(a_mean)\n",
        "a_mean.shape"
      ],
      "metadata": {
        "colab": {
          "base_uri": "https://localhost:8080/"
        },
        "id": "WWwyQlaoVw4c",
        "outputId": "71760e50-1f12-4382-ea76-ee10a6842a36"
      },
      "execution_count": null,
      "outputs": [
        {
          "output_type": "stream",
          "name": "stdout",
          "text": [
            "[[1 2 3]\n",
            " [4 5 6]\n",
            " [7 8 9]]\n",
            "[4. 5. 6.]\n"
          ]
        },
        {
          "output_type": "execute_result",
          "data": {
            "text/plain": [
              "(3,)"
            ]
          },
          "metadata": {},
          "execution_count": 10
        }
      ]
    },
    {
      "cell_type": "markdown",
      "source": [
        "## Problem-5\n",
        "\n",
        "Compute the covariance matrix $\\mathbf{C}$ of the centered dataset.\n",
        "\n",
        "<u>Conversion</u>\n",
        "\n",
        "Enter the following quantity as your answer correct to two decimal places:\n",
        "\n",
        "$$\n",
        "\\cfrac{1}{d^2} \\sqrt{\\sum \\limits_{i = 1}^{d} \\sum \\limits_{j = 1}^{d} C_{ij}^2}\n",
        "$$"
      ],
      "metadata": {
        "id": "8UPKuD8uJCnE"
      }
    },
    {
      "cell_type": "code",
      "source": [
        "Cov_X = (X_c.T @ X_c)/n\n",
        "ans = np.sum(Cov_X**2)**0.5\n",
        "ans/(d**2)"
      ],
      "metadata": {
        "id": "ZWT1bzBDlk2m",
        "colab": {
          "base_uri": "https://localhost:8080/"
        },
        "outputId": "10f817e5-49d4-4b0d-b722-8d09dff94bad"
      },
      "execution_count": null,
      "outputs": [
        {
          "output_type": "execute_result",
          "data": {
            "text/plain": [
              "1.3648061009232249"
            ]
          },
          "metadata": {},
          "execution_count": 11
        }
      ]
    },
    {
      "cell_type": "markdown",
      "source": [
        "## Problem-6\n",
        "\n",
        "Compute the first and second principal components of the dataset, $\\mathbf{w}_1$ and $\\mathbf{w}_2$.\n",
        "\n",
        "<u>Conversion</u>\n",
        "\n",
        "Compute:\n",
        "$$\n",
        "\\mathbf{w} = \\mathbf{w}_1 + \\mathbf{w}_2\n",
        "$$\n",
        "\n",
        "Enter the following quantity as your answer correct to two decimal places:\n",
        "\n",
        "$$\n",
        "\\left| \\sum \\limits_{i = 1}^{d} w_i \\right|\n",
        "$$"
      ],
      "metadata": {
        "id": "FfJK8OiMr2mh"
      }
    },
    {
      "cell_type": "code",
      "source": [
        "a = np.array([[1,2,3],[4,5,6],[7,8,9]])\n",
        "x,y = np.linalg.eigh(a)\n",
        "print(x)\n",
        "print(y)\n",
        "print(y[:,-2:])"
      ],
      "metadata": {
        "colab": {
          "base_uri": "https://localhost:8080/"
        },
        "id": "ExNDBZRS8IfN",
        "outputId": "86528351-b8da-439f-e1ec-557020227a64"
      },
      "execution_count": null,
      "outputs": [
        {
          "output_type": "stream",
          "name": "stdout",
          "text": [
            "[-3.15746784 -0.67276795 18.8302358 ]\n",
            "[[-0.80238891  0.43402538 -0.40962667]\n",
            " [-0.16812656 -0.82296167 -0.54264865]\n",
            " [ 0.57263033  0.36654613 -0.73330651]]\n",
            "[[ 0.43402538 -0.40962667]\n",
            " [-0.82296167 -0.54264865]\n",
            " [ 0.36654613 -0.73330651]]\n"
          ]
        }
      ]
    },
    {
      "cell_type": "code",
      "source": [
        "k,w_all = np.linalg.eigh(Cov_X)\n",
        "w1 = w_all[:,-1]\n",
        "w2 = w_all[:,-2]\n",
        "w = w1 + w2\n",
        "abs(w.sum())"
      ],
      "metadata": {
        "id": "KgJ1FCa1tvZR",
        "colab": {
          "base_uri": "https://localhost:8080/"
        },
        "outputId": "47312581-c7e4-459f-a3df-ecd31a409d8e"
      },
      "execution_count": null,
      "outputs": [
        {
          "output_type": "execute_result",
          "data": {
            "text/plain": [
              "1.051624388059819"
            ]
          },
          "metadata": {},
          "execution_count": 13
        }
      ]
    },
    {
      "cell_type": "markdown",
      "source": [
        "## Problem-7\n",
        "\n",
        "Visualize the first principal component as an image."
      ],
      "metadata": {
        "id": "9CBt_pmj-5pl"
      }
    },
    {
      "cell_type": "code",
      "source": [
        "pc1_img = w1.reshape(28,28)\n",
        "plt.imshow(pc1_img, cmap = 'gray')"
      ],
      "metadata": {
        "id": "KXiJLyT7_N29",
        "colab": {
          "base_uri": "https://localhost:8080/",
          "height": 282
        },
        "outputId": "44976bf7-11d3-4b69-ba64-216a2be1a5ff"
      },
      "execution_count": null,
      "outputs": [
        {
          "output_type": "execute_result",
          "data": {
            "text/plain": [
              "<matplotlib.image.AxesImage at 0x7fd0d49b9f50>"
            ]
          },
          "metadata": {},
          "execution_count": 14
        },
        {
          "output_type": "display_data",
          "data": {
            "text/plain": [
              "<Figure size 432x288 with 1 Axes>"
            ],
            "image/png": "[encoded data removed]"
          },
          "metadata": {
            "needs_background": "light"
          }
        }
      ]
    },
    {
      "cell_type": "markdown",
      "source": [
        "## Problem-8\n",
        "\n",
        "Find the smallest value of $k$ for which the first $k$ principal components capture at least $95\\%$ of the variance in the data."
      ],
      "metadata": {
        "id": "o37ie_mqxqhy"
      }
    },
    {
      "cell_type": "code",
      "source": [
        "(k_all,_) = np.linalg.eigh(Cov_X)\n",
        "k_all = list(reversed(k_all))\n",
        "k_all_sum = np.sum(k_all)\n",
        "v = 0\n",
        "sum_k = 0\n",
        "v_thr = 0.95\n",
        "i = 1\n",
        "for k in k_all:\n",
        "  sum_k = sum_k + k\n",
        "  if sum_k/k_all_sum >= v_thr:\n",
        "    k_s = k\n",
        "    break\n",
        "  i = i + 1\n",
        "print(i)"
      ],
      "metadata": {
        "id": "_JiPpEwCyvQK",
        "colab": {
          "base_uri": "https://localhost:8080/"
        },
        "outputId": "6601de51-6d27-45c8-80a0-2f460dbbf66d"
      },
      "execution_count": null,
      "outputs": [
        {
          "output_type": "stream",
          "name": "stdout",
          "text": [
            "53\n"
          ]
        }
      ]
    },
    {
      "cell_type": "markdown",
      "source": [
        "## Problem-9\n",
        "\n",
        "Given a `test_image`, visualize the proxies  by reconstructing it using the top $k$ principal components. Consider four values of $k$; values of $k$ for which the top-$k$ principal components explain:\n",
        "\n",
        "- 20% of the variance\n",
        "- 50% of the variance\n",
        "- 80% of the variance\n",
        "- 95% of the variance\n",
        "\n"
      ],
      "metadata": {
        "id": "5raTmu_s0Gpq"
      }
    },
    {
      "cell_type": "code",
      "source": [
        "def recon_img(test_image, Cov_X, v_thr):\n",
        "  k_all, w_all = np.linalg.eigh(Cov_X)\n",
        "  k_all = list(reversed(k_all))\n",
        "  k_all_sum = np.sum(k_all)\n",
        "  sum_k = 0\n",
        "  i = 1\n",
        "  for k in k_all:\n",
        "    sum_k = sum_k + k\n",
        "    if sum_k/k_all_sum >= v_thr:\n",
        "      print(i)\n",
        "      w_s = w_all[:,-i:]\n",
        "      coeff = test_image @ w_s\n",
        "      #coeff = np.expand_dims(coeff,1)\n",
        "      return w_s @ coeff\n",
        "    i = i + 1"
      ],
      "metadata": {
        "id": "ibuAKwkFKJsQ"
      },
      "execution_count": null,
      "outputs": []
    },
    {
      "cell_type": "code",
      "source": [
        "'''\n",
        "k_all, w_all = np.linalg.eigh(Cov_X)\n",
        "w_s = w_all[:,-3:]\n",
        "coeff = test_image @ w_s\n",
        "coeff = np.expand_dims(coeff,1)\n",
        "print(\"Coeff shape:\",coeff.shape)\n",
        "recon_img = w_s @ coeff\n",
        "'''"
      ],
      "metadata": {
        "colab": {
          "base_uri": "https://localhost:8080/",
          "height": 53
        },
        "id": "vhnvAWl1ScC2",
        "outputId": "c27de691-e13b-4d5a-d03f-520e7d4b7d73"
      },
      "execution_count": null,
      "outputs": [
        {
          "output_type": "execute_result",
          "data": {
            "text/plain": [
              "'\\nk_all, w_all = np.linalg.eigh(Cov_X)\\nw_s = w_all[:,-3:]\\ncoeff = test_image @ w_s\\ncoeff = np.expand_dims(coeff,1)\\nprint(\"Coeff shape:\",coeff.shape)\\nrecon_img = w_s @ coeff\\n'"
            ],
            "application/vnd.google.colaboratory.intrinsic+json": {
              "type": "string"
            }
          },
          "metadata": {},
          "execution_count": 17
        }
      ]
    },
    {
      "cell_type": "code",
      "source": [
        "'''\n",
        "a = np.array([1,2,3])\n",
        "print(a.shape)\n",
        "b = np.array([[2,4,5]])\n",
        "print(b.shape)\n",
        "b @ a\n",
        "'''"
      ],
      "metadata": {
        "colab": {
          "base_uri": "https://localhost:8080/",
          "height": 35
        },
        "id": "ylVkRQRKjo2P",
        "outputId": "11ed2218-6ef2-4632-aa48-be6a8553f415"
      },
      "execution_count": null,
      "outputs": [
        {
          "output_type": "execute_result",
          "data": {
            "text/plain": [
              "'\\na = np.array([1,2,3])\\nprint(a.shape)\\nb = np.array([[2,4,5]])\\nprint(b.shape)\\nb @ a\\n'"
            ],
            "application/vnd.google.colaboratory.intrinsic+json": {
              "type": "string"
            }
          },
          "metadata": {},
          "execution_count": 18
        }
      ]
    },
    {
      "cell_type": "code",
      "source": [
        "X_test = test_image\n",
        "img_k20 = recon_img(test_image,Cov_X, 0.2)\n",
        "img_k50 = recon_img(test_image,Cov_X, 0.5)\n",
        "img_k80 = recon_img(test_image,Cov_X, 0.8)\n",
        "img_k95 = recon_img(test_image,Cov_X, 0.95)\n",
        "\n",
        "plt.subplot(2,2, 1)\n",
        "plt.imshow(img_k20.reshape(28,28), cmap = 'gray')\n",
        "\n",
        "plt.subplot(2,2, 2)\n",
        "plt.imshow(img_k50.reshape(28,28), cmap = 'gray')\n",
        "\n",
        "plt.subplot(2,2, 3)\n",
        "plt.imshow(img_k80.reshape(28,28), cmap = 'gray')\n",
        "\n",
        "plt.subplot(2,2, 4)\n",
        "plt.imshow(img_k95.reshape(28,28), cmap = 'gray')\n"
      ],
      "metadata": {
        "id": "yrjf1Er24vLo",
        "colab": {
          "base_uri": "https://localhost:8080/"
        },
        "outputId": "00e3aaaf-047c-4b5c-b8cb-68d3b53c113f"
      },
      "execution_count": null,
      "outputs": [
        {
          "output_type": "stream",
          "name": "stdout",
          "text": [
            "2\n",
            "6\n",
            "22\n",
            "53\n"
          ]
        },
        {
          "output_type": "execute_result",
          "data": {
            "text/plain": [
              "<matplotlib.image.AxesImage at 0x7fd0d35784d0>"
            ]
          },
          "metadata": {},
          "execution_count": 34
        }
      ]
    },
    {
      "cell_type": "code",
      "source": [
        "# Reconstruct image using PCA\n",
        "eig_vals, eig_vecs = np.linalg.eigh(Cov_X)\n",
        "eig_vals = list(reversed(eig_vals))\n",
        "def find_k(eig_vals, v_thr):\n",
        "  sum_var = 0\n",
        "  for (i,eig_val) in enumerate(eig_vals):\n",
        "    sum_var = sum_var + eig_val\n",
        "    if sum_var/np.sum(eig_vals) >= v_thr:\n",
        "      return i+1\n",
        "\n",
        "def recon_image(image, Cov_X, var):\n",
        "  eig_vals, eig_vecs = np.linalg.eigh(Cov_X)\n",
        "  eig_vals = list(reversed(eig_vals))\n",
        "  k = find_k(eig_vals,var)\n",
        "  print(k)\n",
        "  w_k = eig_vecs[:,-k:]\n",
        "  cof = image @ w_k\n",
        "  return w_k @ cof\n",
        "\n",
        "vars_thr = [0.20, 0.50, 0.80, 0.95]\n",
        "for (i,var_thr) in enumerate(vars_thr):\n",
        "  reconstructed_image = recon_image(test_image, Cov_X, var_thr).reshape(28,28)\n",
        "  plt.subplot(2,2,i+1)\n",
        "  plt.imshow(reconstructed_image, cmap = \"gray\")\n"
      ],
      "metadata": {
        "colab": {
          "base_uri": "https://localhost:8080/",
          "height": 337
        },
        "id": "Io_8pZwypRtq",
        "outputId": "ac779b02-2a7e-43c8-f67f-0ffd0cd6b1cd"
      },
      "execution_count": null,
      "outputs": [
        {
          "output_type": "stream",
          "name": "stdout",
          "text": [
            "2\n",
            "6\n",
            "22\n",
            "53\n"
          ]
        },
        {
          "output_type": "display_data",
          "data": {
            "text/plain": [
              "<Figure size 432x288 with 4 Axes>"
            ],
            "image/png": "[encoded data removed]"
          },
          "metadata": {
            "needs_background": "light"
          }
        }
      ]
    },
    {
      "cell_type": "code",
      "source": [
        "im1 = recon_image(test_image, Cov_X, 0.95)\n",
        "plt.imshow(im1.reshape(28,28), cmap = 'gray')"
      ],
      "metadata": {
        "colab": {
          "base_uri": "https://localhost:8080/",
          "height": 300
        },
        "id": "VB8PeDIIEQma",
        "outputId": "209e1af9-7ded-46a6-8f88-571746e66099"
      },
      "execution_count": null,
      "outputs": [
        {
          "output_type": "stream",
          "name": "stdout",
          "text": [
            "53\n"
          ]
        },
        {
          "output_type": "execute_result",
          "data": {
            "text/plain": [
              "<matplotlib.image.AxesImage at 0x7fd0d4673d10>"
            ]
          },
          "metadata": {},
          "execution_count": 21
        },
        {
          "output_type": "display_data",
          "data": {
            "text/plain": [
              "<Figure size 432x288 with 1 Axes>"
            ],
            "image/png": "[encoded data removed]"
          },
          "metadata": {
            "needs_background": "light"
          }
        }
      ]
    },
    {
      "cell_type": "code",
      "source": [
        "plt.imshow(test_image.reshape(28,28), cmap = 'gray')"
      ],
      "metadata": {
        "colab": {
          "base_uri": "https://localhost:8080/",
          "height": 282
        },
        "id": "R19_m9ikF-L6",
        "outputId": "7f08eb26-4219-4b52-916f-082aadd8db49"
      },
      "execution_count": null,
      "outputs": [
        {
          "output_type": "execute_result",
          "data": {
            "text/plain": [
              "<matplotlib.image.AxesImage at 0x7fd0d45e1350>"
            ]
          },
          "metadata": {},
          "execution_count": 22
        },
        {
          "output_type": "display_data",
          "data": {
            "text/plain": [
              "<Figure size 432x288 with 1 Axes>"
            ],
            "image/png": "[encoded data removed]"
          },
          "metadata": {
            "needs_background": "light"
          }
        }
      ]
    }
  ]
}