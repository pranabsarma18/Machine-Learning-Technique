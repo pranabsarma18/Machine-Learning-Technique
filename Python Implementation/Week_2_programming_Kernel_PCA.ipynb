{
  "nbformat": 4,
  "nbformat_minor": 0,
  "metadata": {
    "colab": {
      "provenance": [],
      "collapsed_sections": [],
      "include_colab_link": true
    },
    "kernelspec": {
      "name": "python3",
      "display_name": "Python 3"
    },
    "language_info": {
      "name": "python"
    }
  },
  "cells": [
    {
      "cell_type": "markdown",
      "metadata": {
        "id": "view-in-github",
        "colab_type": "text"
      },
      "source": [
        "<a href=\"https://colab.research.google.com/github/pranabsarma18/Machine-Learning-Technique/blob/main/Python%20Implementation/Week_2_programming_Kernel_PCA.ipynb\" target=\"_parent\"><img src=\"https://colab.research.google.com/assets/colab-badge.svg\" alt=\"Open In Colab\"/></a>"
      ]
    },
    {
      "cell_type": "code",
      "execution_count": 1,
      "metadata": {
        "id": "q_ck4etoQn3-"
      },
      "outputs": [],
      "source": [
        "import numpy as np\n",
        "import matplotlib.pyplot as plt"
      ]
    },
    {
      "cell_type": "markdown",
      "source": [
        "# Week-2\n",
        "\n",
        "**Note to Learners**: \n",
        "\n",
        "- For questions that involve plotting, just enter $0$ as the answer in the portal.\n",
        "- For numerical questions, there are two parts. The first part expects you to compute some quantity, say a parameter of a machine learning model. The second part will require you to convert this quantity (if it is not a scalar) into a scalar so that it can be entered as the answer on the portal to the corresponding NAT question.\n",
        "\n"
      ],
      "metadata": {
        "id": "1TBHlt7hAdN1"
      }
    },
    {
      "cell_type": "markdown",
      "source": [
        "## Dataset\n",
        "\n",
        "Run the cell given below to generate the data-matrix $\\mathbf{X}$, which is of shape $(n, d)$, where $n$ denotes the number of samples and $d$ denotes the number of features. Ignore the vector $y$. You will be using this dataset for the rest of the assignment. Do not edit this cell."
      ],
      "metadata": {
        "id": "lqXdDNyBh5Ui"
      }
    },
    {
      "cell_type": "code",
      "source": [
        "from sklearn.datasets import make_circles\n",
        "\n",
        "X, y = make_circles(n_samples=1000, factor=0.9, noise=0.2, random_state=0)"
      ],
      "metadata": {
        "id": "CAbrCY_dRRxP"
      },
      "execution_count": 2,
      "outputs": []
    },
    {
      "cell_type": "markdown",
      "source": [
        "## Problem 1\n",
        "Plot the dataset using matplotlib."
      ],
      "metadata": {
        "id": "mvplHWyjiUbW"
      }
    },
    {
      "cell_type": "code",
      "source": [
        "plt.scatter(X[:,0],X[:,1])"
      ],
      "metadata": {
        "colab": {
          "base_uri": "https://localhost:8080/",
          "height": 282
        },
        "id": "xvE6WCUOTFsJ",
        "outputId": "7402ba76-9f8f-4551-9d46-d2be6d620b7d"
      },
      "execution_count": 3,
      "outputs": [
        {
          "output_type": "execute_result",
          "data": {
            "text/plain": [
              "<matplotlib.collections.PathCollection at 0x7f0bd5dcd1d0>"
            ]
          },
          "metadata": {},
          "execution_count": 3
        },
        {
          "output_type": "display_data",
          "data": {
            "text/plain": [
              "<Figure size 432x288 with 1 Axes>"
            ],
            "image/png": "[encoded data removed]"
          },
          "metadata": {
            "needs_background": "light"
          }
        }
      ]
    },
    {
      "cell_type": "markdown",
      "source": [
        "## Problem 2\n",
        "How many samples are there in the dataset?\n"
      ],
      "metadata": {
        "id": "HmOUoVes-wp8"
      }
    },
    {
      "cell_type": "code",
      "source": [
        "X.shape[0]"
      ],
      "metadata": {
        "id": "UcR4nDys-5Tt",
        "colab": {
          "base_uri": "https://localhost:8080/"
        },
        "outputId": "306df437-54f8-4226-a778-9f710013740c"
      },
      "execution_count": 4,
      "outputs": [
        {
          "output_type": "execute_result",
          "data": {
            "text/plain": [
              "1000"
            ]
          },
          "metadata": {},
          "execution_count": 4
        }
      ]
    },
    {
      "cell_type": "markdown",
      "source": [
        "## Problem 3\n",
        "How many features are there in the dataset?"
      ],
      "metadata": {
        "id": "aZfEFUur_dqG"
      }
    },
    {
      "cell_type": "code",
      "source": [
        "X.shape[1]"
      ],
      "metadata": {
        "id": "UggWLA-p_lg7",
        "colab": {
          "base_uri": "https://localhost:8080/"
        },
        "outputId": "9db6587f-3759-4ee0-8570-39cb2171b368"
      },
      "execution_count": 5,
      "outputs": [
        {
          "output_type": "execute_result",
          "data": {
            "text/plain": [
              "2"
            ]
          },
          "metadata": {},
          "execution_count": 5
        }
      ]
    },
    {
      "cell_type": "markdown",
      "source": [
        "## Problem 4\n",
        "Find the kernel matrix $K$ using the polynomial kernel with degree $2$. \n",
        "\n",
        "<u>Conversion</u>\n",
        "\n",
        "Enter the following quantity as your answer correct to two decimal places:\n",
        "\n",
        "$$\n",
        "\\cfrac{1}{n} \\sqrt{\\sum \\limits_{i = 1}^{n} \\sum \\limits_{j = 1}^{n} (K_{ij})^2}\n",
        "$$"
      ],
      "metadata": {
        "id": "gasf65KuidsK"
      }
    },
    {
      "cell_type": "code",
      "source": [
        "def pol_kernel(X,p):\n",
        "  return (X @ X.T + 1)**p"
      ],
      "metadata": {
        "id": "rX3evv3OP4bl"
      },
      "execution_count": 6,
      "outputs": []
    },
    {
      "cell_type": "code",
      "source": [
        "K = pol_kernel(X,2)\n",
        "K.shape"
      ],
      "metadata": {
        "id": "FgXEvNlWS8yM",
        "colab": {
          "base_uri": "https://localhost:8080/"
        },
        "outputId": "1b8fb9fc-97a4-419d-f905-486d54eb38d7"
      },
      "execution_count": 7,
      "outputs": [
        {
          "output_type": "execute_result",
          "data": {
            "text/plain": [
              "(1000, 1000)"
            ]
          },
          "metadata": {},
          "execution_count": 7
        }
      ]
    },
    {
      "cell_type": "code",
      "source": [
        "n = X.shape[0]"
      ],
      "metadata": {
        "id": "wjGQ8K6fkQAy"
      },
      "execution_count": 8,
      "outputs": []
    },
    {
      "cell_type": "code",
      "source": [
        "K_square = K**2\n",
        "K_square_sum = K_square.sum()\n",
        "K_mss = np.sqrt(K_square_sum)/n\n",
        "K_mss"
      ],
      "metadata": {
        "colab": {
          "base_uri": "https://localhost:8080/"
        },
        "id": "HKitggnGeFvk",
        "outputId": "797d36fb-8981-4333-f9c1-3179696bdd28"
      },
      "execution_count": 9,
      "outputs": [
        {
          "output_type": "execute_result",
          "data": {
            "text/plain": [
              "2.096195646589988"
            ]
          },
          "metadata": {},
          "execution_count": 9
        }
      ]
    },
    {
      "cell_type": "markdown",
      "source": [
        "## Problem 5\n",
        "Find the kernel matrix $K$ using the Gaussian kernel with parameter $\\sigma = 2$. \n",
        "\n",
        "<u>Conversion</u>\n",
        "\n",
        "Enter the following quantity as your answer correct to two decimal places:\n",
        "\n",
        "$$\n",
        "\\cfrac{1}{n} \\sqrt{\\sum \\limits_{i = 1}^{n} \\sum \\limits_{j = 1}^{n} (K_{ij})^2}\n",
        "$$"
      ],
      "metadata": {
        "id": "klNZ9eQTlIFO"
      }
    },
    {
      "cell_type": "code",
      "source": [
        "# Enter your solution here\n",
        "def rad_basis(x,y,sig):\n",
        "  diff = x - y\n",
        "  diff_len_square = (diff**2).sum()\n",
        "  return np.exp(-diff_len_square/(2*(sig**2)))"
      ],
      "metadata": {
        "id": "Z-sZEL_wjobv"
      },
      "execution_count": 10,
      "outputs": []
    },
    {
      "cell_type": "code",
      "source": [
        "K_gk = np.zeros((n,n))\n",
        "for i in range(n):\n",
        "  for j in range(n):\n",
        "    K_gk[i][j] = rad_basis(X[i],X[j],2)\n",
        "K_gk.shape"
      ],
      "metadata": {
        "colab": {
          "base_uri": "https://localhost:8080/"
        },
        "id": "c6HKvHm_h8eA",
        "outputId": "2c7aea33-5389-45b9-9129-1cc3aa951b06"
      },
      "execution_count": 11,
      "outputs": [
        {
          "output_type": "execute_result",
          "data": {
            "text/plain": [
              "(1000, 1000)"
            ]
          },
          "metadata": {},
          "execution_count": 11
        }
      ]
    },
    {
      "cell_type": "code",
      "source": [
        "K_gk_square = K_gk**2\n",
        "K_gk_square_sum = K_gk_square.sum()\n",
        "K_gk_mss = np.sqrt(K_gk_square_sum)/n\n",
        "K_gk_mss"
      ],
      "metadata": {
        "colab": {
          "base_uri": "https://localhost:8080/"
        },
        "id": "nheLBzI0lJ1P",
        "outputId": "a4ea6bae-a57a-474b-d783-436afb8edc01"
      },
      "execution_count": 12,
      "outputs": [
        {
          "output_type": "execute_result",
          "data": {
            "text/plain": [
              "0.8079400085320029"
            ]
          },
          "metadata": {},
          "execution_count": 12
        }
      ]
    },
    {
      "cell_type": "markdown",
      "source": [
        "## Problem 6\n",
        "Find the center of the kernel matrix $K$ obtained in problem 2. Call this centered matrix $KC$.\n",
        "\n",
        "<u>Conversion</u>\n",
        "\n",
        "Enter the following quantity as your answer correct to two decimal places:\n",
        "\n",
        "$$\n",
        "\\cfrac{1}{n} \\sqrt{\\sum \\limits_{i = 1}^{n} \\sum \\limits_{j = 1}^{n} KC_{ij}^2}\n",
        "$$"
      ],
      "metadata": {
        "id": "OGvN9q6uphxv"
      }
    },
    {
      "cell_type": "code",
      "source": [
        "# Enter your solution here\n",
        "def K_centered(K):\n",
        "  N = K.shape[0]\n",
        "  one_n = np.ones((N,N)) / N\n",
        "  K = K - one_n.dot(K) - K.dot(one_n) + one_n.dot(K).dot(one_n)\n",
        "  return K"
      ],
      "metadata": {
        "id": "ol4jeOpZTVc9"
      },
      "execution_count": 13,
      "outputs": []
    },
    {
      "cell_type": "code",
      "source": [
        "KC = K_centered(K)\n",
        "print(np.sqrt((KC ** 2).sum()) / (1000))"
      ],
      "metadata": {
        "colab": {
          "base_uri": "https://localhost:8080/"
        },
        "id": "RFhuHHIzm2IY",
        "outputId": "195840c7-f54b-43f4-914b-a79d833ab54b"
      },
      "execution_count": 14,
      "outputs": [
        {
          "output_type": "stream",
          "name": "stdout",
          "text": [
            "1.4517985176976844\n"
          ]
        }
      ]
    },
    {
      "cell_type": "markdown",
      "source": [
        "## Problem 7\n",
        "Find the projections (scalar) of all the data points on to the first two principal components obtained using polynomial kernel of degree 2.\n",
        "\n",
        "<u>Conversion</u>\n",
        "\n",
        "if $\\alpha_1, \\alpha_2, ..., \\alpha_n$ are the prjections on the first PC and $\\beta_1, \\beta_2, ..., \\beta_n$ are the projections on the second PC, enter the following quantity as your answer correct to two decimal places:\n",
        "\n",
        "$$\\sum_{i = 1}^{n} \\alpha_i + \\sum_{i = 1}^{n} \\beta_i$$"
      ],
      "metadata": {
        "id": "ewkUhHHTsEQo"
      }
    },
    {
      "cell_type": "code",
      "source": [
        "n = X.shape[0]\n",
        "n"
      ],
      "metadata": {
        "colab": {
          "base_uri": "https://localhost:8080/"
        },
        "id": "PtAbrYHmBP75",
        "outputId": "b7583dce-e5fa-409e-9a75-3671e3687eaa"
      },
      "execution_count": 15,
      "outputs": [
        {
          "output_type": "execute_result",
          "data": {
            "text/plain": [
              "1000"
            ]
          },
          "metadata": {},
          "execution_count": 15
        }
      ]
    },
    {
      "cell_type": "code",
      "source": [
        "n = 1000\n",
        "eigen_vals, eigen_vecs = np.linalg.eigh(KC)\n",
        "lambda_1 = eigen_vals[-1]\n",
        "lambda_2 = eigen_vals[-2]\n",
        "w1 = eigen_vecs[:,-1]\n",
        "w2 = eigen_vecs[:,-2]\n",
        "w1 = np.expand_dims(w1,1)\n",
        "w2 = np.expand_dims(w2,1)\n",
        "alpha1 = w1/np.sqrt(lambda_1)\n",
        "alpha2 = w2/np.sqrt(lambda_2)"
      ],
      "metadata": {
        "id": "-OEijgatrNBz"
      },
      "execution_count": 24,
      "outputs": []
    },
    {
      "cell_type": "code",
      "source": [
        "alpha1[0]"
      ],
      "metadata": {
        "colab": {
          "base_uri": "https://localhost:8080/"
        },
        "id": "88on8BR8V8QV",
        "outputId": "f854aa26-1ed3-40b8-e69d-9b3dba20cd98"
      },
      "execution_count": 25,
      "outputs": [
        {
          "output_type": "execute_result",
          "data": {
            "text/plain": [
              "array([0.00076004])"
            ]
          },
          "metadata": {},
          "execution_count": 25
        }
      ]
    },
    {
      "cell_type": "code",
      "source": [
        "print(K.shape, alpha1.shape)\n",
        "alphas = K @ alpha1\n",
        "betas = K @ alpha2\n",
        "(np.abs(alphas).sum() + np.abs(betas).sum())/n"
      ],
      "metadata": {
        "colab": {
          "base_uri": "https://localhost:8080/"
        },
        "id": "TibOrnO8tnXY",
        "outputId": "3c71e166-7e0c-4e10-d800-9c3398dc0b4f"
      },
      "execution_count": 26,
      "outputs": [
        {
          "output_type": "stream",
          "name": "stdout",
          "text": [
            "(1000, 1000) (1000, 1)\n"
          ]
        },
        {
          "output_type": "execute_result",
          "data": {
            "text/plain": [
              "1.7446893638954202"
            ]
          },
          "metadata": {},
          "execution_count": 26
        }
      ]
    }
  ]
}