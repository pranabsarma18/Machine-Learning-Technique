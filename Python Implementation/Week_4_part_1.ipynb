{
  "nbformat": 4,
  "nbformat_minor": 0,
  "metadata": {
    "colab": {
      "provenance": [],
      "collapsed_sections": [],
      "include_colab_link": true
    },
    "kernelspec": {
      "name": "python3",
      "display_name": "Python 3"
    },
    "language_info": {
      "name": "python"
    }
  },
  "cells": [
    {
      "cell_type": "markdown",
      "metadata": {
        "id": "view-in-github",
        "colab_type": "text"
      },
      "source": [
        "<a href=\"https://colab.research.google.com/github/pranabsarma18/Machine-Learning-Technique/blob/main/Python%20Implementation/Week_4_part_1.ipynb\" target=\"_parent\"><img src=\"https://colab.research.google.com/assets/colab-badge.svg\" alt=\"Open In Colab\"/></a>"
      ]
    },
    {
      "cell_type": "markdown",
      "source": [
        "# Week-4: Part-1\n"
      ],
      "metadata": {
        "id": "53TcQvUOjGxr"
      }
    },
    {
      "cell_type": "code",
      "source": [
        "import numpy as np\n",
        "import matplotlib.pyplot as plt\n",
        "# Set size of figure\n",
        "plt.rcParams['figure.figsize'] = [8, 8]\n",
        "# Set size of font\n",
        "plt.rcParams['font.size'] = 10"
      ],
      "metadata": {
        "id": "FasmVZvHPgMW"
      },
      "execution_count": 1,
      "outputs": []
    },
    {
      "cell_type": "markdown",
      "source": [
        "## Sampling\n",
        "\n",
        "Sampling from a distribution is an important skill. While learning ML, it is often a good idea to work with toy-datasets. These toy-datasets can be generated from well known distributions such as the Bernoulli and Gaussian. The next section will introduce the idea of sampling in NumPy."
      ],
      "metadata": {
        "id": "7A9Gri4ZP1oK"
      }
    },
    {
      "cell_type": "markdown",
      "source": [
        "### Random number generator\n",
        "\n",
        "We can sample from distributions with the help of a random number generator:"
      ],
      "metadata": {
        "id": "-Pu7bCK2QsXZ"
      }
    },
    {
      "cell_type": "code",
      "source": [
        "rng = np.random.default_rng()"
      ],
      "metadata": {
        "id": "srJG5sWKQNj8"
      },
      "execution_count": 2,
      "outputs": []
    },
    {
      "cell_type": "markdown",
      "source": [
        "We will start by generating a dataset of ones and zeros. The following code generates a sample of size $10$."
      ],
      "metadata": {
        "id": "zupDoZTNQ6i0"
      }
    },
    {
      "cell_type": "code",
      "source": [
        "rng = np.random.default_rng(seed = 1001)\n",
        "X = rng.integers(0, 2, size = 10)\n",
        "X"
      ],
      "metadata": {
        "colab": {
          "base_uri": "https://localhost:8080/"
        },
        "id": "aQqjseA3RYkB",
        "outputId": "d6b4ab6f-df10-45f3-f510-37a4fddceb8c"
      },
      "execution_count": 3,
      "outputs": [
        {
          "output_type": "execute_result",
          "data": {
            "text/plain": [
              "array([1, 1, 1, 0, 1, 0, 1, 1, 0, 0])"
            ]
          },
          "metadata": {},
          "execution_count": 3
        }
      ]
    },
    {
      "cell_type": "markdown",
      "source": [
        "Notice that we have used a seed value as an argument to the random number generator. This is meant to ensure reproducability. That is, no matter how many times this cell is run, we will get the same sequence of random numbers. First run the cell a few times to verify that this is true. Now, run the cell with a different seed value and see what happens."
      ],
      "metadata": {
        "id": "1SMcmJIeRxNq"
      }
    },
    {
      "cell_type": "markdown",
      "source": [
        "## Problem-1\n",
        "\n",
        "For the dataset `X` given below, what is the maximum likelihood estimate of the mean if we use a Bernoulli distribution with parameter $p$ to model this data? Perform all your operations in the cell given below. Do not change the seed value. Enter your answer correct to three decimal places."
      ],
      "metadata": {
        "id": "3hZYSGhISplV"
      }
    },
    {
      "cell_type": "code",
      "source": [
        "### Data ###\n",
        "rng = np.random.default_rng(seed = 1001)\n",
        "X = rng.integers(0, 2, size = 10000)\n",
        "p = X.sum()/10000\n",
        "print(p)\n",
        "### Solution ###"
      ],
      "metadata": {
        "id": "9G8arNCoSiGs",
        "colab": {
          "base_uri": "https://localhost:8080/"
        },
        "outputId": "9f0f1460-c92a-4a04-a0be-2229604d5ead"
      },
      "execution_count": 4,
      "outputs": [
        {
          "output_type": "stream",
          "name": "stdout",
          "text": [
            "0.4942\n"
          ]
        }
      ]
    },
    {
      "cell_type": "markdown",
      "source": [
        "What happens if we increase the size of the dataset to $10000$? We see that `np.integers` is only giving us observations from a discrete uniform distribution. In other words, if you think about it as a coin toss, the coin is unbiased. How do we generate samples from a biased coin or a Bernoulli distribution with $p \\neq 0.5$? We use a method called `choice`. This method \"chooses\" numbers from a list or an array based on the probabilities given to it in the array `p`."
      ],
      "metadata": {
        "id": "x3Xy5GoJTA4E"
      }
    },
    {
      "cell_type": "code",
      "source": [
        "rng = np.random.default_rng(seed = 1001)\n",
        "X = rng.choice([0, 1], size = 20, p = [0.2, 0.8])\n",
        "X"
      ],
      "metadata": {
        "colab": {
          "base_uri": "https://localhost:8080/"
        },
        "id": "8y-D9idxTb_H",
        "outputId": "f54d8ebf-549f-49d4-889f-813a0a0cb392"
      },
      "execution_count": 5,
      "outputs": [
        {
          "output_type": "execute_result",
          "data": {
            "text/plain": [
              "array([1, 0, 0, 1, 0, 1, 1, 0, 0, 0, 0, 1, 1, 1, 1, 1, 1, 1, 0, 1])"
            ]
          },
          "metadata": {},
          "execution_count": 5
        }
      ]
    },
    {
      "cell_type": "markdown",
      "source": [
        "Note that the array `p` specifies the probabilities of $0$ and $1$."
      ],
      "metadata": {
        "id": "bem3q_teT25M"
      }
    },
    {
      "cell_type": "markdown",
      "source": [
        "## Problem-2\n",
        "\n",
        "Sample $1000$ points from a  Bernoulli distribution whose parameter is $p = 0.7$. Compute the maximum likelihood estimate of the parameter given this sample. Perform all your operations in the cell given below. Enter your answer correct to three decimal places.\n",
        "\n",
        "**Note**:\n",
        "\n",
        "- The parameter $p$ of a Bernoulli distribution always points to $P(x = 1)$.\n",
        "\n",
        "- It may seem pointless to compute the MLE when the parameter is already known to us. But this is a good exercise to verify our understanding of concepts with such toy-datasets."
      ],
      "metadata": {
        "id": "hlCA6LGoT_II"
      }
    },
    {
      "cell_type": "code",
      "source": [
        "### RNG ###\n",
        "rng = np.random.default_rng(seed = 1001)\n",
        "X = rng.choice([0, 1], size = 1000, p = [0.3, 0.7])\n",
        "X.sum()/1000\n",
        "### Solution ###"
      ],
      "metadata": {
        "id": "w_-xhU84UPZZ",
        "colab": {
          "base_uri": "https://localhost:8080/"
        },
        "outputId": "3c9c70b0-3433-4f1c-b6e2-ca6187f7a899"
      },
      "execution_count": 6,
      "outputs": [
        {
          "output_type": "execute_result",
          "data": {
            "text/plain": [
              "0.707"
            ]
          },
          "metadata": {},
          "execution_count": 6
        }
      ]
    },
    {
      "cell_type": "markdown",
      "source": [
        "## Problem-3\n",
        "\n",
        "Plot a bar graph of the above sample. You can use the `plt.bar` method. To know more about a method in Google Colab type `plt.bar?` in a cell and run it."
      ],
      "metadata": {
        "id": "GBiZn4OIU0JX"
      }
    },
    {
      "cell_type": "code",
      "source": [
        "X[X==0].shape"
      ],
      "metadata": {
        "colab": {
          "base_uri": "https://localhost:8080/"
        },
        "id": "lmHx5Nu79Ikm",
        "outputId": "0a5233bc-8cf4-4d68-d51a-6a9031c71d80"
      },
      "execution_count": 7,
      "outputs": [
        {
          "output_type": "execute_result",
          "data": {
            "text/plain": [
              "(293,)"
            ]
          },
          "metadata": {},
          "execution_count": 7
        }
      ]
    },
    {
      "cell_type": "code",
      "source": [
        "(X == 0).shape[0]"
      ],
      "metadata": {
        "colab": {
          "base_uri": "https://localhost:8080/"
        },
        "id": "egHSbT019ErG",
        "outputId": "d13c65fe-b19d-45a4-8f04-fc75e21aaf3a"
      },
      "execution_count": 8,
      "outputs": [
        {
          "output_type": "execute_result",
          "data": {
            "text/plain": [
              "1000"
            ]
          },
          "metadata": {},
          "execution_count": 8
        }
      ]
    },
    {
      "cell_type": "code",
      "source": [
        "### Solution ###\n",
        "plt.bar([0, 1], [X[X == 0].shape[0], X[X == 1].shape[0]])"
      ],
      "metadata": {
        "id": "PJh5VT-4U5YT",
        "colab": {
          "base_uri": "https://localhost:8080/",
          "height": 500
        },
        "outputId": "e702a144-7f64-4506-8d37-729a3cadd227"
      },
      "execution_count": 9,
      "outputs": [
        {
          "output_type": "execute_result",
          "data": {
            "text/plain": [
              "<BarContainer object of 2 artists>"
            ]
          },
          "metadata": {},
          "execution_count": 9
        },
        {
          "output_type": "display_data",
          "data": {
            "text/plain": [
              "<Figure size 576x576 with 1 Axes>"
            ],
            "image/png": "[encoded data removed]"
          },
          "metadata": {
            "needs_background": "light"
          }
        }
      ]
    },
    {
      "cell_type": "markdown",
      "source": [
        "## Problem-4\n",
        "\n",
        "What is the impact of the size of the dataset on the MLE? Generate datasets of the following sizes:\n",
        "\n",
        "- $n = 10$\n",
        "- $n = 100$\n",
        "- $n = 1000$\n",
        "- $n = 10000$\n",
        "- $n = 100000$\n",
        "- $n = 1000000$\n",
        "\n",
        "Sample each dataset from a Bernoulli distribution with parameter $p = 0.2$. For each dataset, first compute the MLE and then compute the difference (abs value) between the MLE and the true parameter. That is, compute the value $d$ for different values of $n$\n",
        "\n",
        "$$\n",
        "d(n) = |\\hat{p}_{ML} - p|\n",
        "$$\n",
        "\n",
        "Plot $d(n)$ with respect to $n$. What do you osbserve?\n"
      ],
      "metadata": {
        "id": "YEN10JivYnpf"
      }
    },
    {
      "cell_type": "code",
      "source": [
        "### RNG ###\n",
        "rng = np.random.default_rng(seed = 1001)\n",
        "ns = [10, 100, 1000, 10000, 100000, 1000000]\n",
        "p = 0.2\n",
        "d_n = []\n",
        "for n in ns:\n",
        "  X = rng.choice([0, 1], size = n, p = [0.8, 0.2])\n",
        "  p_ml = X.mean()\n",
        "  d_n.append(abs(p_ml-0.2))\n",
        "plt.plot(ns, d_n)\n",
        "### Solution ###"
      ],
      "metadata": {
        "id": "cL_dR4SoZZDa",
        "colab": {
          "base_uri": "https://localhost:8080/",
          "height": 513
        },
        "outputId": "0073caf7-e36f-45ef-e873-a6e731b12d38"
      },
      "execution_count": 10,
      "outputs": [
        {
          "output_type": "execute_result",
          "data": {
            "text/plain": [
              "[<matplotlib.lines.Line2D at 0x7f30684fd510>]"
            ]
          },
          "metadata": {},
          "execution_count": 10
        },
        {
          "output_type": "display_data",
          "data": {
            "text/plain": [
              "<Figure size 576x576 with 1 Axes>"
            ],
            "image/png": "[encoded data removed]"
          },
          "metadata": {
            "needs_background": "light"
          }
        }
      ]
    },
    {
      "cell_type": "markdown",
      "source": [
        "## Problem-5\n",
        "\n",
        "Sample $1000$ points from a six sided, biased die with faces: $1, 2, 3, 4, 5, 6$. The parameters corresponding to the six faces are:\n",
        "\n",
        "$$\n",
        "[0.1, 0.2, 0.3, 0.3, 0.05, 0.05]\n",
        "$$\n",
        "\n",
        "Note that this is a categorical distribution. Refer to the practice assignment for a similar problem. Find the maximum likelihood estimate of the parameter $p_3$ (corresponds to the third face). Perform all your operations in the cell given below. Enter your answer correct to three decimal places."
      ],
      "metadata": {
        "id": "_pcJqb0kWEvu"
      }
    },
    {
      "cell_type": "code",
      "source": [
        "### RNG ###\n",
        "rng = np.random.default_rng(seed = 1001)\n",
        "X = rng.choice([1,2,3,4,5,6], size = 1000, p = [0.1,0.2,0.3,0.3,0.05,0.05])\n",
        "X_3 = X[X == 3]\n",
        "p3 = len(X_3)/len(X)\n",
        "p3\n",
        "### Solution ###"
      ],
      "metadata": {
        "id": "zDQQnX4_Xujg",
        "colab": {
          "base_uri": "https://localhost:8080/"
        },
        "outputId": "53c14fb6-02dd-4709-e880-c8415ff9b073"
      },
      "execution_count": 11,
      "outputs": [
        {
          "output_type": "execute_result",
          "data": {
            "text/plain": [
              "0.319"
            ]
          },
          "metadata": {},
          "execution_count": 11
        }
      ]
    },
    {
      "cell_type": "markdown",
      "source": [
        "## Problem-6\n",
        "\n",
        "Plot the bar graph for the above sample."
      ],
      "metadata": {
        "id": "MowGk5GjYJT_"
      }
    },
    {
      "cell_type": "code",
      "source": [
        "a =[True, False, True]\n",
        "sum(a)"
      ],
      "metadata": {
        "colab": {
          "base_uri": "https://localhost:8080/"
        },
        "id": "HqEiqmC69lvu",
        "outputId": "8ed6da8a-652d-466a-dc35-00f1f307da8a"
      },
      "execution_count": 12,
      "outputs": [
        {
          "output_type": "execute_result",
          "data": {
            "text/plain": [
              "2"
            ]
          },
          "metadata": {},
          "execution_count": 12
        }
      ]
    },
    {
      "cell_type": "code",
      "source": [
        "## Solution ##\n",
        "plt.bar(range(1, 7), [sum(X == f) for f in range(1, 7)])"
      ],
      "metadata": {
        "id": "d6uwHy88Yw7N",
        "colab": {
          "base_uri": "https://localhost:8080/",
          "height": 500
        },
        "outputId": "2b651a10-9db5-4f80-87dc-3ccdf0638ca5"
      },
      "execution_count": 13,
      "outputs": [
        {
          "output_type": "execute_result",
          "data": {
            "text/plain": [
              "<BarContainer object of 6 artists>"
            ]
          },
          "metadata": {},
          "execution_count": 13
        },
        {
          "output_type": "display_data",
          "data": {
            "text/plain": [
              "<Figure size 576x576 with 1 Axes>"
            ],
            "image/png": "[encoded data removed]"
          },
          "metadata": {
            "needs_background": "light"
          }
        }
      ]
    },
    {
      "cell_type": "markdown",
      "source": [
        "We now move to the Gaussian distribution. First, we shall get used to computing the density of a Gaussian given its mean and variance."
      ],
      "metadata": {
        "id": "YOPtgJ_4gSaY"
      }
    },
    {
      "cell_type": "markdown",
      "source": [
        "## Problem-7\n",
        "\n",
        "Consider the following Gaussian distribution:\n",
        "\n",
        "$$\n",
        "\\mathcal{N}(3, 1.5^2)\n",
        "$$\n",
        "\n",
        "Compute the density of the point $5$ with respect to this distribution. Enter your answer correct to three decimal places."
      ],
      "metadata": {
        "id": "GatC9VZtgckX"
      }
    },
    {
      "cell_type": "code",
      "source": [
        "## Solution ##\n",
        "def gaussian(x, mu, sigma):\n",
        "  den = sigma*np.sqrt(2*np.pi)\n",
        "  num = np.exp(-(x-mu)**2/(2*sigma**2))\n",
        "  return num/den"
      ],
      "metadata": {
        "id": "ydI-KzQQgtsb"
      },
      "execution_count": 14,
      "outputs": []
    },
    {
      "cell_type": "code",
      "source": [
        "gaussian(5, 3, 1.5)"
      ],
      "metadata": {
        "colab": {
          "base_uri": "https://localhost:8080/"
        },
        "id": "lsHfm0F-TMzH",
        "outputId": "5cd6b3fb-56ec-4db1-ec67-58ba0c9f623f"
      },
      "execution_count": 15,
      "outputs": [
        {
          "output_type": "execute_result",
          "data": {
            "text/plain": [
              "0.10934004978399575"
            ]
          },
          "metadata": {},
          "execution_count": 15
        }
      ]
    },
    {
      "cell_type": "markdown",
      "source": [
        "Now, we shall move to sampling from a Gaussian distribution."
      ],
      "metadata": {
        "id": "8-FRiUbGg_IO"
      }
    },
    {
      "cell_type": "markdown",
      "source": [
        "## Problem-8\n",
        "\n",
        "Generate a dataset of $1000$ points from a Gaussian distribution with mean $3$ and standard deviation $1.5$. Find the maximum likelihood estimate of the mean for this dataset. Enter your answer correct to three decimal places. Use the cell given below for all your computations. You can search for the method to use from the NumPy docs. It is quite similar to what we did for the case of the Bernoulli and categorical distributions."
      ],
      "metadata": {
        "id": "ccDt9scAhLVG"
      }
    },
    {
      "cell_type": "code",
      "source": [
        "### RNG ###\n",
        "rng = np.random.default_rng(seed = 1001)\n",
        "X = rng.normal(loc=3, scale=1.5, size=1000)\n",
        "mu_ml = X.mean()\n",
        "mu_ml\n",
        "### Solution ###"
      ],
      "metadata": {
        "id": "XrufSsuYhacc",
        "colab": {
          "base_uri": "https://localhost:8080/"
        },
        "outputId": "0e7c2e21-537c-4ad4-af33-3436828c3988"
      },
      "execution_count": 40,
      "outputs": [
        {
          "output_type": "execute_result",
          "data": {
            "text/plain": [
              "2.9444187484087863"
            ]
          },
          "metadata": {},
          "execution_count": 40
        }
      ]
    },
    {
      "cell_type": "markdown",
      "source": [
        "## Problem-9\n",
        "\n",
        "Plot the histogram of the dataset given above. Use the `plt.hist` method."
      ],
      "metadata": {
        "id": "tnFOXcFLhkiD"
      }
    },
    {
      "cell_type": "code",
      "source": [
        "## Solution ##\n",
        "plt.hist(X, bins = 10, ec = 'black');"
      ],
      "metadata": {
        "id": "MacX7cbhhoeh",
        "colab": {
          "base_uri": "https://localhost:8080/",
          "height": 483
        },
        "outputId": "c1064121-67a2-4259-e3dd-cef3e6b69b46"
      },
      "execution_count": 17,
      "outputs": [
        {
          "output_type": "display_data",
          "data": {
            "text/plain": [
              "<Figure size 576x576 with 1 Axes>"
            ],
            "image/png": "[encoded data removed]"
          },
          "metadata": {
            "needs_background": "light"
          }
        }
      ]
    },
    {
      "cell_type": "markdown",
      "source": [
        "We will now turn to understanding the shapes of the Beta distribution for different values of parameters $\\alpha$ and $\\beta$."
      ],
      "metadata": {
        "id": "vGWU-0B0P7xR"
      }
    },
    {
      "cell_type": "markdown",
      "source": [
        "## Problem-10\n",
        "\n",
        "Plot the beta distribution for the following values:\n",
        "\n",
        "- $\\alpha = 5, \\beta = 5$\n",
        "- $\\alpha = 5, \\beta = 1.5$\n",
        "- $\\alpha = 1.5, \\beta = 5$\n",
        "- $\\alpha = 0.5, \\beta = 0.5$\n",
        "\n",
        "\n",
        "Do not worry about the normalization constant. Use `plt.subplot(2, 2, i)` to plot all four distributions in a single figure. `i` should take the values 1, 2, 3 and 4 for these four subplots. If you are not sure how it works, google it. Stackoverflow will be of great help here."
      ],
      "metadata": {
        "id": "2YGpPqHpQTjr"
      }
    },
    {
      "cell_type": "code",
      "source": [
        "## Solution ##\n",
        "parameters = [(5,5), (5,1.5), (1.5,5), (0.5,0.5)]\n",
        "for i,para in enumerate(parameters):\n",
        "  alpha = para[0]\n",
        "  beta = para[1]\n",
        "  p = np.linspace(0,1,100)\n",
        "  f_beta = (p**(alpha-1))*((1-p)**(beta-1))\n",
        "  plt.subplot(2, 2, i+1)\n",
        "  plt.plot(p,f_beta)\n",
        "  plt.title(r'$\\alpha = {0}, \\beta = {1}$'.format(para[0],para[1]))\n",
        "  plt.yticks([ ])"
      ],
      "metadata": {
        "id": "2br4TZm4QRQF",
        "colab": {
          "base_uri": "https://localhost:8080/",
          "height": 535
        },
        "outputId": "5215b91a-c957-4e80-c2f7-987ad603767b"
      },
      "execution_count": 34,
      "outputs": [
        {
          "output_type": "stream",
          "name": "stderr",
          "text": [
            "/usr/local/lib/python3.7/dist-packages/ipykernel_launcher.py:7: RuntimeWarning: divide by zero encountered in power\n",
            "  import sys\n"
          ]
        },
        {
          "output_type": "display_data",
          "data": {
            "text/plain": [
              "<Figure size 576x576 with 4 Axes>"
            ],
            "image/png": "[encoded data removed]"
          },
          "metadata": {
            "needs_background": "light"
          }
        }
      ]
    }
  ]
}