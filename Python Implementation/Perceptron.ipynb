{
  "nbformat": 4,
  "nbformat_minor": 0,
  "metadata": {
    "colab": {
      "provenance": [],
      "include_colab_link": true
    },
    "kernelspec": {
      "name": "python3",
      "display_name": "Python 3"
    },
    "language_info": {
      "name": "python"
    }
  },
  "cells": [
    {
      "cell_type": "markdown",
      "metadata": {
        "id": "view-in-github",
        "colab_type": "text"
      },
      "source": [
        "<a href=\"https://colab.research.google.com/github/pranabsarma18/Machine-Learning-Technique/blob/main/Python%20Implementation/Perceptron.ipynb\" target=\"_parent\"><img src=\"https://colab.research.google.com/assets/colab-badge.svg\" alt=\"Open In Colab\"/></a>"
      ]
    },
    {
      "cell_type": "code",
      "execution_count": 120,
      "metadata": {
        "id": "3TDibK0Yrxm_"
      },
      "outputs": [],
      "source": [
        "import numpy as np\n",
        "import matplotlib.pyplot as plt"
      ]
    },
    {
      "cell_type": "markdown",
      "source": [
        "# Week-9\n",
        "\n",
        "**Note to Learners**: \n",
        "\n",
        "- For questions that involve plotting, just enter $0$ as the answer in the portal.\n"
      ],
      "metadata": {
        "id": "1TBHlt7hAdN1"
      }
    },
    {
      "cell_type": "markdown",
      "source": [
        "## Dataset\n",
        "\n",
        "Run the cell given below to generate the data-matrix $\\mathbf{X}$, which is of shape $(n, d)$, where $n$ denotes the number of samples and $d$ denotes the number of features. \n",
        "\n",
        "**Do not edit this cell.**"
      ],
      "metadata": {
        "id": "XJKrscLo9qwH"
      }
    },
    {
      "cell_type": "code",
      "source": [
        "from sklearn.datasets import make_classification\n",
        "X, y = make_classification(n_samples=50, n_features=2, n_informative = 2, n_redundant = 0, n_clusters_per_class = 1, flip_y = 0, class_sep = 3, random_state=20)"
      ],
      "metadata": {
        "id": "d_H2VRQNsLly"
      },
      "execution_count": 121,
      "outputs": []
    },
    {
      "cell_type": "markdown",
      "source": [
        "## Problem 1\n",
        "How many samples are there in the dataset?\n",
        "\n"
      ],
      "metadata": {
        "id": "VAONMkaU91v7"
      }
    },
    {
      "cell_type": "code",
      "source": [
        "X.shape[0]"
      ],
      "metadata": {
        "colab": {
          "base_uri": "https://localhost:8080/"
        },
        "id": "bU3viL_qFyMe",
        "outputId": "0ca97d9d-79f9-46d8-90ce-32f7839727c4"
      },
      "execution_count": 122,
      "outputs": [
        {
          "output_type": "execute_result",
          "data": {
            "text/plain": [
              "50"
            ]
          },
          "metadata": {},
          "execution_count": 122
        }
      ]
    },
    {
      "cell_type": "markdown",
      "source": [
        "## Problem 2\n",
        "\n",
        "How many features are there in the dataset?\n"
      ],
      "metadata": {
        "id": "ozjMS6e_91y3"
      }
    },
    {
      "cell_type": "code",
      "source": [
        "X.shape[1]"
      ],
      "metadata": {
        "colab": {
          "base_uri": "https://localhost:8080/"
        },
        "id": "gB1pBbzcF1Ru",
        "outputId": "f03027cd-4324-4ad1-d5f9-8ff7cc901820"
      },
      "execution_count": 123,
      "outputs": [
        {
          "output_type": "execute_result",
          "data": {
            "text/plain": [
              "2"
            ]
          },
          "metadata": {},
          "execution_count": 123
        }
      ]
    },
    {
      "cell_type": "markdown",
      "source": [
        "## Problem 3\n",
        "In the target vector $y$, replace all occurrences of 0 with -1. \n",
        "\n",
        "How many unique classes are there in the target vector?\n",
        "\n"
      ],
      "metadata": {
        "id": "BOuGvyBUrGUH"
      }
    },
    {
      "cell_type": "code",
      "source": [
        "y[y==0] = -1\n",
        "y"
      ],
      "metadata": {
        "colab": {
          "base_uri": "https://localhost:8080/"
        },
        "id": "UkksY8hVF55P",
        "outputId": "453717a6-d429-41db-c884-54fe1a39002a"
      },
      "execution_count": 124,
      "outputs": [
        {
          "output_type": "execute_result",
          "data": {
            "text/plain": [
              "array([ 1,  1,  1,  1,  1,  1,  1, -1, -1,  1, -1, -1, -1,  1, -1, -1,  1,\n",
              "        1, -1,  1, -1,  1, -1, -1,  1, -1,  1, -1,  1,  1, -1,  1, -1,  1,\n",
              "       -1,  1,  1, -1, -1, -1, -1,  1,  1, -1, -1, -1, -1,  1,  1, -1])"
            ]
          },
          "metadata": {},
          "execution_count": 124
        }
      ]
    },
    {
      "cell_type": "code",
      "source": [
        "y"
      ],
      "metadata": {
        "colab": {
          "base_uri": "https://localhost:8080/"
        },
        "id": "49khro9AGMpy",
        "outputId": "00ec7e02-9482-436e-a2a2-e5b0404e16d8"
      },
      "execution_count": 125,
      "outputs": [
        {
          "output_type": "execute_result",
          "data": {
            "text/plain": [
              "array([ 1,  1,  1,  1,  1,  1,  1, -1, -1,  1, -1, -1, -1,  1, -1, -1,  1,\n",
              "        1, -1,  1, -1,  1, -1, -1,  1, -1,  1, -1,  1,  1, -1,  1, -1,  1,\n",
              "       -1,  1,  1, -1, -1, -1, -1,  1,  1, -1, -1, -1, -1,  1,  1, -1])"
            ]
          },
          "metadata": {},
          "execution_count": 125
        }
      ]
    },
    {
      "cell_type": "markdown",
      "source": [
        "## Problem 4\n",
        "Plot the data keepig first feature on the x-axis and the second feature on the y-axis. Plot the data points belonging to each class in different colors. Does the data seem linearly separable?\n",
        "\n",
        "[MCQ]\n",
        "\n",
        "**Options:**\n",
        "\n",
        "(a) Yes\n",
        "\n",
        "(b) No\n",
        "\n"
      ],
      "metadata": {
        "id": "2mjZDVoIqzkJ"
      }
    },
    {
      "cell_type": "code",
      "source": [
        "plt.scatter(X[:,0], X[:,1], c=y)"
      ],
      "metadata": {
        "colab": {
          "base_uri": "https://localhost:8080/",
          "height": 282
        },
        "id": "oIaSn6rQGUJy",
        "outputId": "5c75589e-fd7b-48ef-8791-fe35d5032347"
      },
      "execution_count": 126,
      "outputs": [
        {
          "output_type": "execute_result",
          "data": {
            "text/plain": [
              "<matplotlib.collections.PathCollection at 0x7f8e31fd2a60>"
            ]
          },
          "metadata": {},
          "execution_count": 126
        },
        {
          "output_type": "display_data",
          "data": {
            "text/plain": [
              "<Figure size 432x288 with 1 Axes>"
            ],
            "image/png": "[encoded data removed]"
          },
          "metadata": {
            "needs_background": "light"
          }
        }
      ]
    },
    {
      "cell_type": "markdown",
      "source": [
        "## Problem 5\n",
        "\n",
        "Initialize w to be a zero vector, with shape equal to the number of features in the data.\n",
        "\n",
        "Iterate over each data point $x$ in $X$ one by one (in the same sequence as present in $X$). For each data point, compute the value of $w^Tx$. If $w^Tx \\ge 0$, predict positive class for $x$, else predict the negative class.\n",
        "\n",
        "If prediction does not match the actual class label, update the weight vector as per the following update rule:\n",
        "$$w_{new} = w_{old} + xy$$ where $x$ is the data point and $y$ is the actual label of $x$.\n",
        "\n",
        "Run the above for 10 epochs (iterations), but stop if there are no weight updates in an epoch. \n",
        "\n",
        "In which iteration, does the number of weight updates becomes zero for the first time?\n",
        "\n",
        "[NAT]\n",
        "**Options**\n",
        "\n",
        "(a) 1\n",
        "\n",
        "(b) 2\n",
        "\n",
        "(c) 3\n",
        "\n",
        "(d) 5\n",
        "\n"
      ],
      "metadata": {
        "id": "wBvVzKA-u9YM"
      }
    },
    {
      "cell_type": "code",
      "source": [
        "def perceptron(X, y, iters=10):\n",
        "    total_mistakes = 0\n",
        "    n = X.shape[0]\n",
        "    d = X.shape[1]\n",
        "    w = np.zeros(d)\n",
        "    for iter in range(iters):\n",
        "        mistakes = 0\n",
        "        for i in range(n):\n",
        "            if ((w @ X[i,:]) * y[i]) <= 0:\n",
        "                w = w + (X[i,:] * y[i]) \n",
        "                mistakes = mistakes + 1\n",
        "        print(f\"Mistakes in epoch {iter}: {mistakes}\")\n",
        "        if mistakes == 0:\n",
        "            break\n",
        "        total_mistakes = total_mistakes + mistakes\n",
        "    return (w, total_mistakes)"
      ],
      "metadata": {
        "id": "EklbJZyEMPMo"
      },
      "execution_count": 156,
      "outputs": []
    },
    {
      "cell_type": "code",
      "source": [
        "w, total_mistakes = perceptron(X, y)"
      ],
      "metadata": {
        "id": "J-3d0aKbOLV1"
      },
      "execution_count": 128,
      "outputs": []
    },
    {
      "cell_type": "code",
      "source": [
        "w "
      ],
      "metadata": {
        "colab": {
          "base_uri": "https://localhost:8080/"
        },
        "id": "TB5xHbIKZzR5",
        "outputId": "9c541ad8-e6ad-4ab8-9684-bbaebc60ab9c"
      },
      "execution_count": 130,
      "outputs": [
        {
          "output_type": "execute_result",
          "data": {
            "text/plain": [
              "array([ 6.88956746, -1.15300462])"
            ]
          },
          "metadata": {},
          "execution_count": 130
        }
      ]
    },
    {
      "cell_type": "markdown",
      "source": [
        "## Problem 6\n",
        "Plot the vector w and the decision boundary thus obtained.\n",
        "\n"
      ],
      "metadata": {
        "id": "3zs84_zyUMZG"
      }
    },
    {
      "cell_type": "code",
      "source": [
        "#plt.quiver?"
      ],
      "metadata": {
        "id": "e_brufC1Z5KZ"
      },
      "execution_count": 139,
      "outputs": []
    },
    {
      "cell_type": "code",
      "source": [
        "plt.scatter(X[:,0], X[:,1], c=y)\n",
        "plt.quiver(0, 0, w[0], w[1], scale = 25)\n",
        "plt.quiver(0, 0, w[1], -w[0], scale = 25, headaxislength=0, headlength=0, color='g')\n",
        "plt.quiver(0, 0, -w[1], w[0], scale = 25, headaxislength=0, headlength=0, color='g')\n",
        "plt.xlim(-7,7)\n",
        "plt.ylim(-7,7)"
      ],
      "metadata": {
        "colab": {
          "base_uri": "https://localhost:8080/",
          "height": 282
        },
        "id": "gPwA2NTVTnxp",
        "outputId": "67ce62bb-fafc-4e33-9002-0469a4d3e6de"
      },
      "execution_count": 150,
      "outputs": [
        {
          "output_type": "execute_result",
          "data": {
            "text/plain": [
              "(-7.0, 7.0)"
            ]
          },
          "metadata": {},
          "execution_count": 150
        },
        {
          "output_type": "display_data",
          "data": {
            "text/plain": [
              "<Figure size 432x288 with 1 Axes>"
            ],
            "image/png": "[encoded data removed]"
          },
          "metadata": {
            "needs_background": "light"
          }
        }
      ]
    },
    {
      "cell_type": "markdown",
      "source": [
        "## Problem 7\n",
        "What is the value of loss using the weight vector obtained earlier?  \n"
      ],
      "metadata": {
        "id": "8jRORev-U_AQ"
      }
    },
    {
      "cell_type": "code",
      "source": [
        "def loss(X, y, w):\n",
        "    loss = 0\n",
        "    y = y.reshape(-1, 1)\n",
        "    w = w.reshape(-1, 1)\n",
        "    y_pred = X @ w\n",
        "    for i in range(y_pred.shape[0]):\n",
        "        if y_pred[i] * y[i] < 0:\n",
        "            loss = loss + 1\n",
        "    return loss/y.shape[0]"
      ],
      "metadata": {
        "id": "brIUOyHxcB0p"
      },
      "execution_count": 151,
      "outputs": []
    },
    {
      "cell_type": "code",
      "source": [
        "loss(X, y, w)"
      ],
      "metadata": {
        "colab": {
          "base_uri": "https://localhost:8080/"
        },
        "id": "lOjHGAoHdd3x",
        "outputId": "acd2cc9e-6d60-490b-dae6-d0029414d2e3"
      },
      "execution_count": 152,
      "outputs": [
        {
          "output_type": "execute_result",
          "data": {
            "text/plain": [
              "0.0"
            ]
          },
          "metadata": {},
          "execution_count": 152
        }
      ]
    },
    {
      "cell_type": "markdown",
      "source": [
        "## Problem 8\n",
        "Now use the following data set, replace occurrences of 0 with -1 and visualize.\n",
        "\n",
        "**Do not edit the following cell.**\n",
        "\n"
      ],
      "metadata": {
        "id": "6Mv5kTYtVZ39"
      }
    },
    {
      "cell_type": "code",
      "source": [
        "from sklearn.datasets import make_classification\n",
        "X, y = make_classification(n_samples=50, n_features=2, n_informative = 2, n_redundant = 0, n_clusters_per_class = 1, flip_y = 0.1, class_sep = 2, random_state=20)"
      ],
      "metadata": {
        "id": "27pznw-oVeFq"
      },
      "execution_count": 153,
      "outputs": []
    },
    {
      "cell_type": "code",
      "source": [
        "y[y==0] = -1\n",
        "y"
      ],
      "metadata": {
        "colab": {
          "base_uri": "https://localhost:8080/"
        },
        "id": "AGqL2cfud4tL",
        "outputId": "f2fe7ad2-b652-4eb8-a3e7-04b5bffca0f0"
      },
      "execution_count": 154,
      "outputs": [
        {
          "output_type": "execute_result",
          "data": {
            "text/plain": [
              "array([ 1, -1,  1,  1, -1, -1,  1,  1,  1, -1, -1, -1,  1, -1, -1,  1, -1,\n",
              "        1,  1, -1,  1,  1, -1,  1, -1, -1,  1, -1,  1,  1, -1, -1, -1,  1,\n",
              "        1,  1, -1,  1, -1,  1,  1, -1, -1, -1, -1,  1,  1,  1, -1, -1])"
            ]
          },
          "metadata": {},
          "execution_count": 154
        }
      ]
    },
    {
      "cell_type": "markdown",
      "source": [
        "## Problem 9\n",
        "\n",
        "Apply the Perceptron code again. \n",
        "\n",
        "What is the number of weight updates performed in epoch 10?\n",
        "\n"
      ],
      "metadata": {
        "id": "jLlsj651cjtm"
      }
    },
    {
      "cell_type": "code",
      "source": [
        "w,_ = perceptron(X, y, iters = 11)"
      ],
      "metadata": {
        "colab": {
          "base_uri": "https://localhost:8080/"
        },
        "id": "8YrTo6DUdzza",
        "outputId": "b1130d8a-c2be-4b20-d1d0-f2b50e4a173c"
      },
      "execution_count": 159,
      "outputs": [
        {
          "output_type": "stream",
          "name": "stdout",
          "text": [
            "Mistakes in epoch 0: 14\n",
            "Mistakes in epoch 1: 11\n",
            "Mistakes in epoch 2: 11\n",
            "Mistakes in epoch 3: 11\n",
            "Mistakes in epoch 4: 11\n",
            "Mistakes in epoch 5: 10\n",
            "Mistakes in epoch 6: 11\n",
            "Mistakes in epoch 7: 9\n",
            "Mistakes in epoch 8: 13\n",
            "Mistakes in epoch 9: 10\n",
            "Mistakes in epoch 10: 11\n"
          ]
        }
      ]
    },
    {
      "cell_type": "markdown",
      "source": [
        "## Problem 10\n",
        "Visualize the weight vector and the decision boundary.\n",
        "\n"
      ],
      "metadata": {
        "id": "iVxGOLbocqVv"
      }
    },
    {
      "cell_type": "code",
      "source": [
        "plt.scatter(X[:,0], X[:,1], c=y)\n",
        "plt.quiver(0, 0, w[0], w[1], scale = 20)\n",
        "plt.quiver(0, 0, w[1], -w[0], scale = 10, headaxislength=0, headlength=0, color='g')\n",
        "plt.quiver(0, 0, -w[1], w[0], scale = 10, headaxislength=0, headlength=0, color='g')\n",
        "plt.xlim(-4,4)\n",
        "plt.ylim(-4,4)"
      ],
      "metadata": {
        "colab": {
          "base_uri": "https://localhost:8080/",
          "height": 286
        },
        "id": "3uawHRHJe6fc",
        "outputId": "8875c92e-802e-4b2b-cd46-6824bc02baf5"
      },
      "execution_count": 164,
      "outputs": [
        {
          "output_type": "execute_result",
          "data": {
            "text/plain": [
              "(-4.0, 4.0)"
            ]
          },
          "metadata": {},
          "execution_count": 164
        },
        {
          "output_type": "display_data",
          "data": {
            "text/plain": [
              "<Figure size 432x288 with 1 Axes>"
            ],
            "image/png": "[encoded data removed]"
          },
          "metadata": {
            "needs_background": "light"
          }
        }
      ]
    }
  ]
}