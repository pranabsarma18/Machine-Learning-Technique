{
  "nbformat": 4,
  "nbformat_minor": 0,
  "metadata": {
    "colab": {
      "provenance": [],
      "collapsed_sections": [
        "uBUor5KWp3_Q",
        "FSDbBz7ucm_a",
        "5eh8cI4PeVEb"
      ],
      "include_colab_link": true
    },
    "kernelspec": {
      "name": "python3",
      "display_name": "Python 3"
    },
    "language_info": {
      "name": "python"
    }
  },
  "cells": [
    {
      "cell_type": "markdown",
      "metadata": {
        "id": "view-in-github",
        "colab_type": "text"
      },
      "source": [
        "<a href=\"https://colab.research.google.com/github/pranabsarma18/Machine-Learning-Technique/blob/main/Python%20Implementation/Linear_Regresson_W5_Programming.ipynb\" target=\"_parent\"><img src=\"https://colab.research.google.com/assets/colab-badge.svg\" alt=\"Open In Colab\"/></a>"
      ]
    },
    {
      "cell_type": "markdown",
      "source": [
        "## Importing the libraries"
      ],
      "metadata": {
        "id": "WT2nf7VJXHsH"
      }
    },
    {
      "cell_type": "code",
      "execution_count": 174,
      "metadata": {
        "id": "0kgvCN0n3_1p"
      },
      "outputs": [],
      "source": [
        "import numpy as np\n",
        "import matplotlib.pyplot as plt"
      ]
    },
    {
      "cell_type": "markdown",
      "source": [
        "This assignments has two sections:\n",
        "* Linear Regression\n",
        "* Kernel Regression\n",
        "\n",
        "\n"
      ],
      "metadata": {
        "id": "iBY90BqPXO31"
      }
    },
    {
      "cell_type": "markdown",
      "source": [
        "# Section 1:\n",
        "\n",
        "**Linear Regression**"
      ],
      "metadata": {
        "id": "X1nmn2q15Vzn"
      }
    },
    {
      "cell_type": "markdown",
      "source": [
        "We will use the Boston_housing dataset for the regression problem. Run the below cell to get the following variables:\n",
        "* `Training_data` = Training data matrix of shape $(n, d)$\n",
        "* `labels` = label vector corresponding to the training data\n",
        "* `test_data` = Test data matrix of shape $(n_1, d)$ where $n_1$ is the number of examples in test dataset.\n",
        "* `test_labels` = label vector corresponding to the test data\n",
        "\n",
        "Use this dataset for the regression problem."
      ],
      "metadata": {
        "id": "aComJ_Fd5dnI"
      }
    },
    {
      "cell_type": "code",
      "source": [
        "from keras.datasets import boston_housing\n",
        "Train, test = boston_housing.load_data(seed= 111)\n",
        "Training_data, labels = Train[0], Train[1]\n",
        "Test_data, test_labels = test[0], test[1]"
      ],
      "metadata": {
        "id": "53UCtcH64nsC"
      },
      "execution_count": 175,
      "outputs": []
    },
    {
      "cell_type": "markdown",
      "source": [
        "## Question 1\n",
        "How many examples are there in the training dataset?\n",
        "\n"
      ],
      "metadata": {
        "id": "R0Dnj-Qha47p"
      }
    },
    {
      "cell_type": "code",
      "source": [
        "## Enter your solution here\n",
        "Training_data.shape[0]"
      ],
      "metadata": {
        "id": "vpLeerN2mGRi",
        "colab": {
          "base_uri": "https://localhost:8080/"
        },
        "outputId": "b66a5810-3271-403e-cbd1-b767752bb1b5"
      },
      "execution_count": 176,
      "outputs": [
        {
          "output_type": "execute_result",
          "data": {
            "text/plain": [
              "404"
            ]
          },
          "metadata": {},
          "execution_count": 176
        }
      ]
    },
    {
      "cell_type": "markdown",
      "source": [
        "## Question 2\n",
        "How many examples are there in the test dataset?\n",
        "\n"
      ],
      "metadata": {
        "id": "ChYFPOV5b5jZ"
      }
    },
    {
      "cell_type": "code",
      "source": [
        "## Enter your solution here\n",
        "Test_data.shape[0]"
      ],
      "metadata": {
        "id": "0XK7s98bb8PY",
        "colab": {
          "base_uri": "https://localhost:8080/"
        },
        "outputId": "ed1f6ff0-7d5c-4e12-a4b4-7322641b3e01"
      },
      "execution_count": 177,
      "outputs": [
        {
          "output_type": "execute_result",
          "data": {
            "text/plain": [
              "102"
            ]
          },
          "metadata": {},
          "execution_count": 177
        }
      ]
    },
    {
      "cell_type": "markdown",
      "source": [
        "## Question 3\n",
        "\n",
        "How many features are there in the dataset?\n",
        "\n"
      ],
      "metadata": {
        "id": "ZYLLXlAacL5c"
      }
    },
    {
      "cell_type": "code",
      "source": [
        "## Enter your solution here\n",
        "Training_data.shape[1]"
      ],
      "metadata": {
        "id": "rGvr9_jkO7NA",
        "colab": {
          "base_uri": "https://localhost:8080/"
        },
        "outputId": "be11cdd4-fa5a-4fed-fc34-b84620e10fdf"
      },
      "execution_count": 178,
      "outputs": [
        {
          "output_type": "execute_result",
          "data": {
            "text/plain": [
              "13"
            ]
          },
          "metadata": {},
          "execution_count": 178
        }
      ]
    },
    {
      "cell_type": "markdown",
      "source": [
        "Linear regression model for the dataset ${\\mathbb{x}, y}$ is given as\n",
        "$$h_w(\\mathbb{x}) = w_1x^{1}+w_2x^{2}+...+w_dx^{d} =  \\mathbb{x}^Tw\n",
        "$$\n",
        "\n",
        "where $x^{i}$ is the $i^{th}$ feature, $\\mathbb{x}$ is the feature matrix of shape $(d, n)$ and $w = [w_1, w_2, ...w_d]^T$ is the weight vector.\n",
        "\n",
        "\n",
        "Notice that above model always pass through the origin but for a given dataset, best fit model need not pass through the origin. To tackle this issue, we add an intercept $w_0$ in the model and set the corresponding featrue $x^{0}$ to $1$. That is \n",
        "\n",
        "$$h_w(\\mathbb{x}) =w_0x^{0}+ w_1x^{1}+w_2x^{2}+...+w_dx^{n} =  \\mathbb{x}^Tw\n",
        "$$\n",
        "\n",
        "We call $x^{0}$ the dummy feature and set its value to 1 for each examples. Now $w$ is of shape $(d+1, 1)$ and $\\mathbb{x}$ is of shape $(d+1, n)$ where the first row of $\\mathbb{x}$ has entries as 1.\n"
      ],
      "metadata": {
        "id": "KmF4HhMmhx9R"
      }
    },
    {
      "cell_type": "markdown",
      "source": [
        "## Task \n",
        "\n",
        "Add the dummy feature in the feature matrix `Training_data` and test data matrix `test_data`. We will be using this new feature matrices (after adding te dummy feature) for learning the model.\n",
        "\n",
        "Note: As per your convenience, you can convert the shape of the training dataset to $(d, n)$. "
      ],
      "metadata": {
        "id": "kN5fsfqfmX_w"
      }
    },
    {
      "cell_type": "code",
      "source": [
        "## Enter your solution here\n",
        "dummy_feature = np.ones(Training_data.shape[0])\n",
        "Training_data = np.column_stack((Training_data, dummy_feature))\n",
        "Training_data.shape"
      ],
      "metadata": {
        "id": "wic4nhW47fOv",
        "colab": {
          "base_uri": "https://localhost:8080/"
        },
        "outputId": "e90677ad-f641-429a-f4b7-26467bf110a4"
      },
      "execution_count": 179,
      "outputs": [
        {
          "output_type": "execute_result",
          "data": {
            "text/plain": [
              "(404, 14)"
            ]
          },
          "metadata": {},
          "execution_count": 179
        }
      ]
    },
    {
      "cell_type": "markdown",
      "source": [
        "## Question 4\n",
        "If the solution of optimization problem is obtained by setting the first derivative of loss function (squared loss) to zero, find the value of $w_0+w_1+...w_d$.\n",
        "\n",
        "\n"
      ],
      "metadata": {
        "id": "sK4oWgqCnzgc"
      }
    },
    {
      "cell_type": "code",
      "source": [
        "## Enter your solution here\n",
        "X = Training_data\n",
        "y = labels\n",
        "weight = (np.linalg.inv((X.T @ X)) @ X.T) @ y\n",
        "weight.sum()"
      ],
      "metadata": {
        "id": "JORYNRkdOo55",
        "colab": {
          "base_uri": "https://localhost:8080/"
        },
        "outputId": "5eaa5df4-5ad5-4942-f389-f661bc66e4a0"
      },
      "execution_count": 180,
      "outputs": [
        {
          "output_type": "execute_result",
          "data": {
            "text/plain": [
              "20.524582464650628"
            ]
          },
          "metadata": {},
          "execution_count": 180
        }
      ]
    },
    {
      "cell_type": "markdown",
      "source": [
        "## Question 5\n",
        "Find the average of the predictions made by the above model.\n",
        "\n"
      ],
      "metadata": {
        "id": "uBUor5KWp3_Q"
      }
    },
    {
      "cell_type": "code",
      "source": [
        "## Enter your solution here\n",
        "training_prediction = Training_data @ weight\n",
        "training_prediction.mean()"
      ],
      "metadata": {
        "id": "O2vF1aE2Rxfs",
        "colab": {
          "base_uri": "https://localhost:8080/"
        },
        "outputId": "cef70de4-17cc-4f1e-b88b-4d5ad28898d2"
      },
      "execution_count": 181,
      "outputs": [
        {
          "output_type": "execute_result",
          "data": {
            "text/plain": [
              "22.30915841584094"
            ]
          },
          "metadata": {},
          "execution_count": 181
        }
      ]
    },
    {
      "cell_type": "markdown",
      "source": [
        "## Question 6\n",
        "\n",
        "Find the loss for the training data points using the above model. Consider the loss to be defined as\n",
        "\n",
        "$$ \\sqrt{\\dfrac{1}{n}\\sum\\limits_{i=1}^{n} (y_i- \\hat{y}_i)^2}\n",
        "$$\n",
        "\n",
        "Where $\\hat{y}_i$ is the prediction for $i^{th}$ data point. \n",
        "\n"
      ],
      "metadata": {
        "id": "FSDbBz7ucm_a"
      }
    },
    {
      "cell_type": "code",
      "source": [
        "## Enter your solution here\n",
        "error2 = (labels - training_prediction)**2\n",
        "loss = np.sqrt(error2.mean())\n",
        "loss"
      ],
      "metadata": {
        "id": "F4jRui2VSeDt",
        "colab": {
          "base_uri": "https://localhost:8080/"
        },
        "outputId": "b64c0460-11c3-4175-892f-85d1a065be70"
      },
      "execution_count": 182,
      "outputs": [
        {
          "output_type": "execute_result",
          "data": {
            "text/plain": [
              "4.552387969840813"
            ]
          },
          "metadata": {},
          "execution_count": 182
        }
      ]
    },
    {
      "cell_type": "markdown",
      "source": [
        "## Question 7\n",
        "\n",
        "Find the loss for the test data points using the above model. Consider the loss to be defined as\n",
        "\n",
        "$$ \\sqrt{\\dfrac{1}{n}\\sum\\limits_{i=1}^{n} (y_i- \\hat{y}_i)^2}\n",
        "$$\n",
        "\n",
        "Where $\\hat{y}_i$ is the prediction for $i^{th}$ data point. \n",
        "\n"
      ],
      "metadata": {
        "id": "5eh8cI4PeVEb"
      }
    },
    {
      "cell_type": "code",
      "source": [
        "## Enter your solution here\n",
        "dummy_feature = np.ones(Test_data.shape[0])\n",
        "Test_data = np.column_stack((Test_data, dummy_feature))\n",
        "test_prediction = Test_data @ weight\n",
        "\n",
        "error2 = (test_labels - test_prediction)**2\n",
        "loss = np.sqrt(error2.mean())\n",
        "loss"
      ],
      "metadata": {
        "id": "vBMCgEIBU6v5",
        "colab": {
          "base_uri": "https://localhost:8080/"
        },
        "outputId": "45a3a49b-c69c-461b-f410-2e52b7efb8be"
      },
      "execution_count": 183,
      "outputs": [
        {
          "output_type": "execute_result",
          "data": {
            "text/plain": [
              "5.327662216181837"
            ]
          },
          "metadata": {},
          "execution_count": 183
        }
      ]
    },
    {
      "cell_type": "markdown",
      "source": [
        "## Question 8\n",
        "Find the weights using the gradient descent. Use a constant learning rate of $\\eta = 10^{-10}$. Initialize the weight vector as zero vector and update the weights for 100 iterations. Enter the sum of all the weights.\n",
        "\n"
      ],
      "metadata": {
        "id": "NkeClcplfJLK"
      }
    },
    {
      "cell_type": "code",
      "source": [
        "## Enter your solution here\n",
        "X = Training_data\n",
        "y = labels\n",
        "\n",
        "n = X.shape[0]\n",
        "d = X.shape[1]\n",
        "lr = 10**(-10)\n",
        "\n",
        "weights = np.zeros(d)\n",
        "for i in range(100):\n",
        "  #print(f\"Iteration {i+1}\")\n",
        "  weights = weights - lr * ((2 * ((X.T @ X) @ weights)) - 2 * X.T @ y)\n",
        "weights.sum()"
      ],
      "metadata": {
        "id": "QbpyGnfgWEqj",
        "colab": {
          "base_uri": "https://localhost:8080/"
        },
        "outputId": "0d837e55-1876-4af9-fd37-ffc1896988cd"
      },
      "execution_count": 184,
      "outputs": [
        {
          "output_type": "execute_result",
          "data": {
            "text/plain": [
              "0.058959061195902635"
            ]
          },
          "metadata": {},
          "execution_count": 184
        }
      ]
    },
    {
      "cell_type": "code",
      "source": [
        "Training_data.shape"
      ],
      "metadata": {
        "colab": {
          "base_uri": "https://localhost:8080/"
        },
        "id": "P83mC2xLJrYu",
        "outputId": "c1a367e4-e6fe-4d74-db4f-f2d77a0da969"
      },
      "execution_count": 185,
      "outputs": [
        {
          "output_type": "execute_result",
          "data": {
            "text/plain": [
              "(404, 14)"
            ]
          },
          "metadata": {},
          "execution_count": 185
        }
      ]
    },
    {
      "cell_type": "markdown",
      "source": [
        "## Question 9\n",
        "\n",
        "Find the loss for the training data points if the model is learnt using the gradient descent as in question 8. Consider the loss to be defined as\n",
        "\n",
        "$$ \\sqrt{\\dfrac{1}{n}\\sum\\limits_{i=1}^{n} (y_i- \\hat{y}_i)^2}\n",
        "$$\n",
        "\n",
        "Where $\\hat{y}_i$ is the prediction for $i^{th}$ data point. \n",
        "\n"
      ],
      "metadata": {
        "id": "78ApH0oAg96X"
      }
    },
    {
      "cell_type": "code",
      "source": [
        "## Enter your solution here\n",
        "training_prediction = X @ weights\n",
        "\n",
        "error2 = (labels - training_prediction)**2\n",
        "loss = np.sqrt(error2.mean())\n",
        "loss"
      ],
      "metadata": {
        "id": "oI1yIf9N8la7",
        "colab": {
          "base_uri": "https://localhost:8080/"
        },
        "outputId": "f3c64871-d495-42f2-d91a-75927e15c8c5"
      },
      "execution_count": 186,
      "outputs": [
        {
          "output_type": "execute_result",
          "data": {
            "text/plain": [
              "11.137273237021954"
            ]
          },
          "metadata": {},
          "execution_count": 186
        }
      ]
    },
    {
      "cell_type": "markdown",
      "source": [
        "## Question 10\n",
        "\n",
        "Find the loss for the test data points if the model is learnt using the gradient descent as in question 8. Consider the loss to be defined as\n",
        "\n",
        "$$ \\sqrt{\\dfrac{1}{n}\\sum\\limits_{i=1}^{n} (y_i- \\hat{y}_i)^2}\n",
        "$$\n",
        "\n",
        "Where $\\hat{y}_i$ is the prediction for $i^{th}$ data point. \n",
        "\n"
      ],
      "metadata": {
        "id": "FA7UKT1Y3PXa"
      }
    },
    {
      "cell_type": "code",
      "source": [
        "## Enter your solution here\n",
        "test_prediction = Test_data @ weights\n",
        "\n",
        "error2 = (test_labels - test_prediction)**2\n",
        "loss = np.sqrt(error2.mean())\n",
        "loss"
      ],
      "metadata": {
        "id": "tevVzIIj3SZj",
        "colab": {
          "base_uri": "https://localhost:8080/"
        },
        "outputId": "b6be9815-fc8f-4f69-9464-a1458bf92ca4"
      },
      "execution_count": 187,
      "outputs": [
        {
          "output_type": "execute_result",
          "data": {
            "text/plain": [
              "10.964491250062142"
            ]
          },
          "metadata": {},
          "execution_count": 187
        }
      ]
    },
    {
      "cell_type": "markdown",
      "source": [
        "## Question 11\n",
        "Find the weights using the stochastic gradient descent. Use a constant learning rate of $\\eta = 10^{-8}$. Initialize the weight vector as zero vector and update the weights for 1000 iterations. . Take the batch size of $⌈\\text{number of samples}/5⌉ $. For sampling the batch examples in $ith$ iteration, set seed at $i$. The final weight is the last updated weight. Do not take the avearge of weights updated in all the iterations. Enter the sum of all the weights.\n",
        "\n",
        "\n"
      ],
      "metadata": {
        "id": "-AoLsBKc31Ul"
      }
    },
    {
      "cell_type": "code",
      "source": [
        "## Enter your solution here \n",
        "X = Training_data\n",
        "y = labels\n",
        "n = X.shape[0]\n",
        "d = X.shape[1]\n",
        "lr = 10**(-8)\n",
        "W = np.zeros(d)\n",
        "\n",
        "for i in range(1000):\n",
        "  rng = np.random.default_rng(seed = i)\n",
        "  samples = rng.integers(0, n, size = n//5)\n",
        "  X_s = X[samples]\n",
        "  y_s = y[samples]\n",
        "\n",
        "  W = W - lr * ((2 * ((X_s.T @ X_s) @ W)) - 2 * X_s.T @ y_s)\n",
        "\n",
        "W.sum()"
      ],
      "metadata": {
        "id": "R4odop9yF9VY",
        "colab": {
          "base_uri": "https://localhost:8080/"
        },
        "outputId": "91e69c31-a38a-422b-858a-a77c530c7191"
      },
      "execution_count": 188,
      "outputs": [
        {
          "output_type": "execute_result",
          "data": {
            "text/plain": [
              "0.10124206187312648"
            ]
          },
          "metadata": {},
          "execution_count": 188
        }
      ]
    },
    {
      "cell_type": "code",
      "source": [
        "a = [[1,2], [2,3], [5,6]]\n",
        "a = np.array(a)\n",
        "a[[0,2]]"
      ],
      "metadata": {
        "colab": {
          "base_uri": "https://localhost:8080/"
        },
        "id": "VssEydc4daPT",
        "outputId": "297a9dc0-6cef-44b6-9934-26c7b942ea6e"
      },
      "execution_count": 189,
      "outputs": [
        {
          "output_type": "execute_result",
          "data": {
            "text/plain": [
              "array([[1, 2],\n",
              "       [5, 6]])"
            ]
          },
          "metadata": {},
          "execution_count": 189
        }
      ]
    },
    {
      "cell_type": "markdown",
      "source": [
        "## Question 12\n",
        "\n",
        "Find the loss for the training data points if the model is learnt using the stochastic gradient descent as in question 11. Consider the loss to be defined as\n",
        "\n",
        "$$ \\sqrt{\\dfrac{1}{n}\\sum\\limits_{i=1}^{n} (y_i- \\hat{y}_i)^2}\n",
        "$$\n",
        "\n",
        "Where $\\hat{y}_i$ is the prediction for $i^{th}$ data point. \n",
        "\n"
      ],
      "metadata": {
        "id": "yPzJLciH4NrV"
      }
    },
    {
      "cell_type": "code",
      "source": [
        "## Enter your solution here\n",
        "training_prediction = X @ W\n",
        "\n",
        "error2 = (labels - training_prediction)**2\n",
        "loss = np.sqrt(error2.mean())\n",
        "loss"
      ],
      "metadata": {
        "id": "w9usLAPeLNkt",
        "colab": {
          "base_uri": "https://localhost:8080/"
        },
        "outputId": "9aa2f094-cf1c-491d-9f5e-c83bbe853a22"
      },
      "execution_count": 190,
      "outputs": [
        {
          "output_type": "execute_result",
          "data": {
            "text/plain": [
              "8.6246359251934"
            ]
          },
          "metadata": {},
          "execution_count": 190
        }
      ]
    },
    {
      "cell_type": "markdown",
      "source": [
        "## Question 13\n",
        "\n",
        "Find the loss for the test data points if the model is learnt using the stochastic gradient descent as in question 11. Consider the loss to be defined as\n",
        "\n",
        "$$ \\sqrt{\\dfrac{1}{n}\\sum\\limits_{i=1}^{n} (y_i- \\hat{y}_i)^2}\n",
        "$$\n",
        "\n",
        "Where $\\hat{y}_i$ is the prediction for $i^{th}$ data point. \n"
      ],
      "metadata": {
        "id": "rfeamQM94x_N"
      }
    },
    {
      "cell_type": "code",
      "source": [
        "## Enter your solution here\n",
        "test_prediction = Test_data @ W\n",
        "\n",
        "error2 = (test_labels - test_prediction)**2\n",
        "loss = np.sqrt(error2.mean())\n",
        "loss"
      ],
      "metadata": {
        "id": "oF1xpNH845iH",
        "colab": {
          "base_uri": "https://localhost:8080/"
        },
        "outputId": "5ba481c3-e4ff-4b6e-a6e6-d247a7f16755"
      },
      "execution_count": 191,
      "outputs": [
        {
          "output_type": "execute_result",
          "data": {
            "text/plain": [
              "8.352305624451189"
            ]
          },
          "metadata": {},
          "execution_count": 191
        }
      ]
    },
    {
      "cell_type": "markdown",
      "source": [
        "# Section 2:\n",
        "\n",
        "**kernel Regression**"
      ],
      "metadata": {
        "id": "muMOKLvY5D9O"
      }
    },
    {
      "cell_type": "markdown",
      "source": [
        "We will generate the synthetic dataset for the kernel regression problem. Run the following cell to get the following variables:\n",
        "\n",
        "`X` = Training data matrix of shape $(n, d)$. In the given dataset $d = 1$. \n",
        "\n",
        "`y` = label vector corresponding to the training dataset"
      ],
      "metadata": {
        "id": "pDAKRJua6rCU"
      }
    },
    {
      "cell_type": "code",
      "source": [
        "rng = np.random.default_rng(seed = 101)\n",
        "X = np.arange(-2, 2, 0.01).reshape(-1, 1)\n",
        "y = X**3 + rng.normal(0, 1, X.shape[0]).reshape(-1, 1)\n"
      ],
      "metadata": {
        "id": "_WgICXZSnra0"
      },
      "execution_count": 192,
      "outputs": []
    },
    {
      "cell_type": "markdown",
      "source": [
        "## Question 14\n",
        "\n",
        "Plot the scatter plot between feature and the labels. Enter your answer as 0.\n",
        "\n"
      ],
      "metadata": {
        "id": "y_-9lyPm8aaj"
      }
    },
    {
      "cell_type": "code",
      "source": [
        "## Enter your solution here\n",
        "plt.scatter(X, y)"
      ],
      "metadata": {
        "id": "B12Nc2Sv80_s",
        "colab": {
          "base_uri": "https://localhost:8080/",
          "height": 282
        },
        "outputId": "d73fab8f-30aa-4eed-b32a-95ca31afce11"
      },
      "execution_count": 193,
      "outputs": [
        {
          "output_type": "execute_result",
          "data": {
            "text/plain": [
              "<matplotlib.collections.PathCollection at 0x7fab220ba1d0>"
            ]
          },
          "metadata": {},
          "execution_count": 193
        },
        {
          "output_type": "display_data",
          "data": {
            "text/plain": [
              "<Figure size 432x288 with 1 Axes>"
            ],
            "image/png": "[encoded data removed]"
          },
          "metadata": {
            "needs_background": "light"
          }
        }
      ]
    },
    {
      "cell_type": "markdown",
      "source": [
        "## Question 15\n",
        "How many examples are there in the training dataset?\n",
        "\n"
      ],
      "metadata": {
        "id": "E3e-gQHg8z8x"
      }
    },
    {
      "cell_type": "code",
      "source": [
        "## Enter your solution here\n",
        "X.shape, y.shape"
      ],
      "metadata": {
        "id": "xGeqMCV57ZJB",
        "colab": {
          "base_uri": "https://localhost:8080/"
        },
        "outputId": "8a1ef3e2-a3e5-4254-9bbb-d884660a41e9"
      },
      "execution_count": 194,
      "outputs": [
        {
          "output_type": "execute_result",
          "data": {
            "text/plain": [
              "((400, 1), (400, 1))"
            ]
          },
          "metadata": {},
          "execution_count": 194
        }
      ]
    },
    {
      "cell_type": "markdown",
      "source": [
        "## Task:\n",
        "\n",
        "Add the dummy feature in the feature matrix `X`and reshape it to the shape $(d, n)$."
      ],
      "metadata": {
        "id": "uPifeX-K9zuU"
      }
    },
    {
      "cell_type": "code",
      "source": [
        "## Enter your solution here\n",
        "dummy_feature = np.ones(X.shape[0])\n",
        "X = np.column_stack((dummy_feature, X))\n",
        "X = X.T"
      ],
      "metadata": {
        "id": "yduBBJQgujfE"
      },
      "execution_count": 195,
      "outputs": []
    },
    {
      "cell_type": "markdown",
      "source": [
        "## Question 16\n",
        "\n",
        "Our task is to apply the kernel regression with polynomial kernel of degree 3. We know that weight vector can be written as\n",
        "\n",
        "$$w = \\phi(\\mathbb{x})\\alpha$$\n",
        "\n",
        "let us call the vector $\\alpha$ as coefficient vector. Find the sum of elements in the coefficient vector.\n",
        "\n"
      ],
      "metadata": {
        "id": "HQtBOQua_HQB"
      }
    },
    {
      "cell_type": "code",
      "source": [
        "## Enter your solution here\n",
        "def poly_kernel(X, degree):\n",
        "  return (X.T@X + 1)**degree\n",
        "\n",
        "def coef(X, y, degree):\n",
        "  K = poly_kernel(X, degree)\n",
        "  return (np.linalg.pinv(K))@y"
      ],
      "metadata": {
        "id": "CVMDkgkNqCBG"
      },
      "execution_count": 196,
      "outputs": []
    },
    {
      "cell_type": "code",
      "source": [
        "alpha = coef(X, y, 3)\n",
        "np.sum(alpha)"
      ],
      "metadata": {
        "colab": {
          "base_uri": "https://localhost:8080/"
        },
        "id": "WLA7IqRqeg4N",
        "outputId": "df4f09de-9d38-4737-a570-d3576fa1c5aa"
      },
      "execution_count": 197,
      "outputs": [
        {
          "output_type": "execute_result",
          "data": {
            "text/plain": [
              "-0.01781057129417185"
            ]
          },
          "metadata": {},
          "execution_count": 197
        }
      ]
    },
    {
      "cell_type": "markdown",
      "source": [
        "## Question 17\n",
        "\n",
        "Find the sum of the predictions made by the kernel regression model of degree 3.\n",
        "\n"
      ],
      "metadata": {
        "id": "Xq0YtsGjA7IK"
      }
    },
    {
      "cell_type": "code",
      "source": [
        "alpha.shape"
      ],
      "metadata": {
        "colab": {
          "base_uri": "https://localhost:8080/"
        },
        "id": "5HMRSOj3_bKQ",
        "outputId": "8f2ef624-fae4-4bcf-ba53-08de79dfc478"
      },
      "execution_count": 198,
      "outputs": [
        {
          "output_type": "execute_result",
          "data": {
            "text/plain": [
              "(400, 1)"
            ]
          },
          "metadata": {},
          "execution_count": 198
        }
      ]
    },
    {
      "cell_type": "code",
      "source": [
        "## Enter your solution here\n",
        "K = poly_kernel(X, 3)\n",
        "predictions = alpha.T @ K\n",
        "predictions.shape"
      ],
      "metadata": {
        "id": "YAqln4GZ05dg",
        "colab": {
          "base_uri": "https://localhost:8080/"
        },
        "outputId": "c2543311-745c-48b3-eb40-2b08fd49faf2"
      },
      "execution_count": 199,
      "outputs": [
        {
          "output_type": "execute_result",
          "data": {
            "text/plain": [
              "(1, 400)"
            ]
          },
          "metadata": {},
          "execution_count": 199
        }
      ]
    },
    {
      "cell_type": "code",
      "source": [
        "predictions.sum()"
      ],
      "metadata": {
        "colab": {
          "base_uri": "https://localhost:8080/"
        },
        "id": "viXzWTOEtTuE",
        "outputId": "14de4fad-614d-4d36-a880-98f7e4d1107e"
      },
      "execution_count": 200,
      "outputs": [
        {
          "output_type": "execute_result",
          "data": {
            "text/plain": [
              "-25.68690492009182"
            ]
          },
          "metadata": {},
          "execution_count": 200
        }
      ]
    },
    {
      "cell_type": "markdown",
      "source": [
        "## Question 18\n",
        "\n",
        "Find the loss for the training data points. Consider the loss to be defined as\n",
        "\n",
        "$$ \\sqrt{\\dfrac{1}{n}\\sum\\limits_{i=1}^{n} (y_i- \\hat{y}_i)^2}\n",
        "$$\n",
        "\n",
        "Where $\\hat{y}_i$ is the prediction for $i^{th}$ data point. \n",
        "\n"
      ],
      "metadata": {
        "id": "pXRpijIeCcSr"
      }
    },
    {
      "cell_type": "code",
      "source": [
        "## Enter your solution here\n",
        "predictions = predictions.T\n",
        "error2 = (y - predictions)**2\n",
        "loss = np.sqrt(error2.mean())\n",
        "loss"
      ],
      "metadata": {
        "id": "8_i2Th-g1ToW",
        "colab": {
          "base_uri": "https://localhost:8080/"
        },
        "outputId": "56b36767-690d-4113-c65d-48578dcf46b0"
      },
      "execution_count": 201,
      "outputs": [
        {
          "output_type": "execute_result",
          "data": {
            "text/plain": [
              "1.0061212525621972"
            ]
          },
          "metadata": {},
          "execution_count": 201
        }
      ]
    },
    {
      "cell_type": "markdown",
      "source": [
        "### Test dataset\n",
        "\n",
        "run the following cell to get the test data matrix `X_test` and corresponding label vector `y_test`."
      ],
      "metadata": {
        "id": "nGpw3zpI65rm"
      }
    },
    {
      "cell_type": "code",
      "source": [
        "rng = np.random.default_rng(seed = 102)\n",
        "Xnew = np.arange(-2, 2, 0.03)\n",
        "ynew = Xnew**3 + rng.normal(0, 1.5, Xnew.shape[0])\n",
        "X_test = np.column_stack((np.ones(Xnew.shape[0]), Xnew.reshape(-1, 1))).T\n",
        "y_test = ynew.reshape(-1, 1)\n",
        "plt.scatter(Xnew,ynew)"
      ],
      "metadata": {
        "colab": {
          "base_uri": "https://localhost:8080/",
          "height": 282
        },
        "id": "fLNDYH_B67kN",
        "outputId": "78d5a4d0-93be-449d-ae4f-db90ca647bfb"
      },
      "execution_count": 202,
      "outputs": [
        {
          "output_type": "execute_result",
          "data": {
            "text/plain": [
              "<matplotlib.collections.PathCollection at 0x7fab223a4e90>"
            ]
          },
          "metadata": {},
          "execution_count": 202
        },
        {
          "output_type": "display_data",
          "data": {
            "text/plain": [
              "<Figure size 432x288 with 1 Axes>"
            ],
            "image/png": "[encoded data removed]"
          },
          "metadata": {
            "needs_background": "light"
          }
        }
      ]
    },
    {
      "cell_type": "markdown",
      "source": [
        "## Question 19\n",
        "\n",
        "Find the loss for the test data points. Consider the loss to be defined as\n",
        "\n",
        "$$ \\sqrt{\\dfrac{1}{n}\\sum\\limits_{i=1}^{n} (y_i- \\hat{y}_i)^2}\n",
        "$$\n",
        "\n",
        "Where $\\hat{y}_i$ is the prediction for $i^{th}$ data point. \n",
        "\n"
      ],
      "metadata": {
        "id": "5vlunIBzDI1_"
      }
    },
    {
      "cell_type": "code",
      "source": [
        "X.shape"
      ],
      "metadata": {
        "colab": {
          "base_uri": "https://localhost:8080/"
        },
        "id": "lWe8cLaGrLyW",
        "outputId": "a9c6cf80-f627-48b7-884f-98f39a43de39"
      },
      "execution_count": 203,
      "outputs": [
        {
          "output_type": "execute_result",
          "data": {
            "text/plain": [
              "(2, 400)"
            ]
          },
          "metadata": {},
          "execution_count": 203
        }
      ]
    },
    {
      "cell_type": "code",
      "source": [
        "def poly_kernel_vec(x, y, p):\n",
        "  return (x.T @ y + 1)**p"
      ],
      "metadata": {
        "id": "jWQD1KNAsKvT"
      },
      "execution_count": 211,
      "outputs": []
    },
    {
      "cell_type": "code",
      "source": [
        "## Enter your solution here\n",
        "n = X.shape[1]\n",
        "n_test = X_test.shape[1]\n",
        "\n",
        "test_pred = np.zeros(n_test)\n",
        "for i in range(n_test):\n",
        "  for j in range(n):\n",
        "    test_pred[i] = test_pred[i] + (alpha[j] * poly_kernel_vec(X[:,j], X_test[:,i], 3))\n",
        "\n",
        "test_pred = test_pred.reshape(-1,1)\n",
        "\n",
        "error2 = (y_test - test_pred)**2\n",
        "loss = np.sqrt(error2.mean())\n",
        "loss"
      ],
      "metadata": {
        "id": "_RxSPslY7joK",
        "colab": {
          "base_uri": "https://localhost:8080/"
        },
        "outputId": "4053a665-d730-47fb-fcb7-1684f3a4af2f"
      },
      "execution_count": 220,
      "outputs": [
        {
          "output_type": "execute_result",
          "data": {
            "text/plain": [
              "1.5650996763170157"
            ]
          },
          "metadata": {},
          "execution_count": 220
        }
      ]
    },
    {
      "cell_type": "code",
      "source": [
        "K_pred = poly_kernel_vec(X, X_test, 3)\n",
        "test_pred1 = (alpha.T @ K_pred)\n",
        "\n",
        "test_pred1 = test_pred1.T\n",
        "\n",
        "error2 = (y_test - test_pred1)**2\n",
        "loss = np.sqrt(error2.mean())\n",
        "loss"
      ],
      "metadata": {
        "colab": {
          "base_uri": "https://localhost:8080/"
        },
        "id": "QOXm64Yow9IM",
        "outputId": "40bab52a-3663-4eff-84b6-a3d8427f2aa0"
      },
      "execution_count": 212,
      "outputs": [
        {
          "output_type": "execute_result",
          "data": {
            "text/plain": [
              "1.565099676317016"
            ]
          },
          "metadata": {},
          "execution_count": 212
        }
      ]
    }
  ]
}